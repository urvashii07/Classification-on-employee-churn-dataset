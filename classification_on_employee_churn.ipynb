{
  "cells": [
    {
      "cell_type": "code",
      "execution_count": 1,
      "id": "8c6752d2",
      "metadata": {
        "id": "8c6752d2"
      },
      "outputs": [],
      "source": [
        "#predict employee churn:\n",
        "#churn means quit service or not"
      ]
    },
    {
      "cell_type": "code",
      "execution_count": 2,
      "id": "7a711416",
      "metadata": {
        "id": "7a711416"
      },
      "outputs": [],
      "source": [
        "#importing basic libraries\n",
        "import matplotlib.pyplot as plt\n",
        "import seaborn as sb\n",
        "import pandas as pd\n",
        "import numpy as np\n",
        "import warnings\n",
        "warnings.filterwarnings(\"ignore\")"
      ]
    },
    {
      "cell_type": "code",
      "execution_count": 3,
      "id": "d2976a25",
      "metadata": {
        "colab": {
          "base_uri": "https://localhost:8080/"
        },
        "id": "d2976a25",
        "outputId": "2b38e07b-058e-4249-be51-069fea95569e"
      },
      "outputs": [
        {
          "output_type": "stream",
          "name": "stdout",
          "text": [
            "Looking in indexes: https://pypi.org/simple, https://us-python.pkg.dev/colab-wheels/public/simple/\n",
            "Requirement already satisfied: imblearn in /usr/local/lib/python3.7/dist-packages (0.0)\n",
            "Requirement already satisfied: imbalanced-learn in /usr/local/lib/python3.7/dist-packages (from imblearn) (0.8.1)\n",
            "Requirement already satisfied: scikit-learn>=0.24 in /usr/local/lib/python3.7/dist-packages (from imbalanced-learn->imblearn) (1.0.2)\n",
            "Requirement already satisfied: joblib>=0.11 in /usr/local/lib/python3.7/dist-packages (from imbalanced-learn->imblearn) (1.2.0)\n",
            "Requirement already satisfied: scipy>=0.19.1 in /usr/local/lib/python3.7/dist-packages (from imbalanced-learn->imblearn) (1.7.3)\n",
            "Requirement already satisfied: numpy>=1.13.3 in /usr/local/lib/python3.7/dist-packages (from imbalanced-learn->imblearn) (1.21.6)\n",
            "Requirement already satisfied: threadpoolctl>=2.0.0 in /usr/local/lib/python3.7/dist-packages (from scikit-learn>=0.24->imbalanced-learn->imblearn) (3.1.0)\n"
          ]
        }
      ],
      "source": [
        "#sampling technique\n",
        "!pip install imblearn"
      ]
    },
    {
      "cell_type": "code",
      "execution_count": 4,
      "id": "670ed8d5",
      "metadata": {
        "colab": {
          "base_uri": "https://localhost:8080/",
          "height": 206
        },
        "id": "670ed8d5",
        "outputId": "f189f485-a971-4c8e-811b-5d86337826ab"
      },
      "outputs": [
        {
          "output_type": "execute_result",
          "data": {
            "text/plain": [
              "   satisfaction_level  last_evaluation  number_project  average_montly_hours  \\\n",
              "0                0.38             0.53               2                   157   \n",
              "1                0.80             0.86               5                   262   \n",
              "2                0.11             0.88               7                   272   \n",
              "3                0.72             0.87               5                   223   \n",
              "4                0.37             0.52               2                   159   \n",
              "\n",
              "   time_spend_company  Work_accident  quit  promotion_last_5years department  \\\n",
              "0                   3              0     1                    0.0      sales   \n",
              "1                   6              0     1                    0.0      sales   \n",
              "2                   4              0     1                    0.0      sales   \n",
              "3                   5              0     1                    0.0      sales   \n",
              "4                   3              0     1                    0.0      sales   \n",
              "\n",
              "   salary  \n",
              "0     low  \n",
              "1  medium  \n",
              "2  medium  \n",
              "3     low  \n",
              "4     low  "
            ],
            "text/html": [
              "\n",
              "  <div id=\"df-2b6ad137-1f4c-480b-b9b4-42281aa8fc4c\">\n",
              "    <div class=\"colab-df-container\">\n",
              "      <div>\n",
              "<style scoped>\n",
              "    .dataframe tbody tr th:only-of-type {\n",
              "        vertical-align: middle;\n",
              "    }\n",
              "\n",
              "    .dataframe tbody tr th {\n",
              "        vertical-align: top;\n",
              "    }\n",
              "\n",
              "    .dataframe thead th {\n",
              "        text-align: right;\n",
              "    }\n",
              "</style>\n",
              "<table border=\"1\" class=\"dataframe\">\n",
              "  <thead>\n",
              "    <tr style=\"text-align: right;\">\n",
              "      <th></th>\n",
              "      <th>satisfaction_level</th>\n",
              "      <th>last_evaluation</th>\n",
              "      <th>number_project</th>\n",
              "      <th>average_montly_hours</th>\n",
              "      <th>time_spend_company</th>\n",
              "      <th>Work_accident</th>\n",
              "      <th>quit</th>\n",
              "      <th>promotion_last_5years</th>\n",
              "      <th>department</th>\n",
              "      <th>salary</th>\n",
              "    </tr>\n",
              "  </thead>\n",
              "  <tbody>\n",
              "    <tr>\n",
              "      <th>0</th>\n",
              "      <td>0.38</td>\n",
              "      <td>0.53</td>\n",
              "      <td>2</td>\n",
              "      <td>157</td>\n",
              "      <td>3</td>\n",
              "      <td>0</td>\n",
              "      <td>1</td>\n",
              "      <td>0.0</td>\n",
              "      <td>sales</td>\n",
              "      <td>low</td>\n",
              "    </tr>\n",
              "    <tr>\n",
              "      <th>1</th>\n",
              "      <td>0.80</td>\n",
              "      <td>0.86</td>\n",
              "      <td>5</td>\n",
              "      <td>262</td>\n",
              "      <td>6</td>\n",
              "      <td>0</td>\n",
              "      <td>1</td>\n",
              "      <td>0.0</td>\n",
              "      <td>sales</td>\n",
              "      <td>medium</td>\n",
              "    </tr>\n",
              "    <tr>\n",
              "      <th>2</th>\n",
              "      <td>0.11</td>\n",
              "      <td>0.88</td>\n",
              "      <td>7</td>\n",
              "      <td>272</td>\n",
              "      <td>4</td>\n",
              "      <td>0</td>\n",
              "      <td>1</td>\n",
              "      <td>0.0</td>\n",
              "      <td>sales</td>\n",
              "      <td>medium</td>\n",
              "    </tr>\n",
              "    <tr>\n",
              "      <th>3</th>\n",
              "      <td>0.72</td>\n",
              "      <td>0.87</td>\n",
              "      <td>5</td>\n",
              "      <td>223</td>\n",
              "      <td>5</td>\n",
              "      <td>0</td>\n",
              "      <td>1</td>\n",
              "      <td>0.0</td>\n",
              "      <td>sales</td>\n",
              "      <td>low</td>\n",
              "    </tr>\n",
              "    <tr>\n",
              "      <th>4</th>\n",
              "      <td>0.37</td>\n",
              "      <td>0.52</td>\n",
              "      <td>2</td>\n",
              "      <td>159</td>\n",
              "      <td>3</td>\n",
              "      <td>0</td>\n",
              "      <td>1</td>\n",
              "      <td>0.0</td>\n",
              "      <td>sales</td>\n",
              "      <td>low</td>\n",
              "    </tr>\n",
              "  </tbody>\n",
              "</table>\n",
              "</div>\n",
              "      <button class=\"colab-df-convert\" onclick=\"convertToInteractive('df-2b6ad137-1f4c-480b-b9b4-42281aa8fc4c')\"\n",
              "              title=\"Convert this dataframe to an interactive table.\"\n",
              "              style=\"display:none;\">\n",
              "        \n",
              "  <svg xmlns=\"http://www.w3.org/2000/svg\" height=\"24px\"viewBox=\"0 0 24 24\"\n",
              "       width=\"24px\">\n",
              "    <path d=\"M0 0h24v24H0V0z\" fill=\"none\"/>\n",
              "    <path d=\"M18.56 5.44l.94 2.06.94-2.06 2.06-.94-2.06-.94-.94-2.06-.94 2.06-2.06.94zm-11 1L8.5 8.5l.94-2.06 2.06-.94-2.06-.94L8.5 2.5l-.94 2.06-2.06.94zm10 10l.94 2.06.94-2.06 2.06-.94-2.06-.94-.94-2.06-.94 2.06-2.06.94z\"/><path d=\"M17.41 7.96l-1.37-1.37c-.4-.4-.92-.59-1.43-.59-.52 0-1.04.2-1.43.59L10.3 9.45l-7.72 7.72c-.78.78-.78 2.05 0 2.83L4 21.41c.39.39.9.59 1.41.59.51 0 1.02-.2 1.41-.59l7.78-7.78 2.81-2.81c.8-.78.8-2.07 0-2.86zM5.41 20L4 18.59l7.72-7.72 1.47 1.35L5.41 20z\"/>\n",
              "  </svg>\n",
              "      </button>\n",
              "      \n",
              "  <style>\n",
              "    .colab-df-container {\n",
              "      display:flex;\n",
              "      flex-wrap:wrap;\n",
              "      gap: 12px;\n",
              "    }\n",
              "\n",
              "    .colab-df-convert {\n",
              "      background-color: #E8F0FE;\n",
              "      border: none;\n",
              "      border-radius: 50%;\n",
              "      cursor: pointer;\n",
              "      display: none;\n",
              "      fill: #1967D2;\n",
              "      height: 32px;\n",
              "      padding: 0 0 0 0;\n",
              "      width: 32px;\n",
              "    }\n",
              "\n",
              "    .colab-df-convert:hover {\n",
              "      background-color: #E2EBFA;\n",
              "      box-shadow: 0px 1px 2px rgba(60, 64, 67, 0.3), 0px 1px 3px 1px rgba(60, 64, 67, 0.15);\n",
              "      fill: #174EA6;\n",
              "    }\n",
              "\n",
              "    [theme=dark] .colab-df-convert {\n",
              "      background-color: #3B4455;\n",
              "      fill: #D2E3FC;\n",
              "    }\n",
              "\n",
              "    [theme=dark] .colab-df-convert:hover {\n",
              "      background-color: #434B5C;\n",
              "      box-shadow: 0px 1px 3px 1px rgba(0, 0, 0, 0.15);\n",
              "      filter: drop-shadow(0px 1px 2px rgba(0, 0, 0, 0.3));\n",
              "      fill: #FFFFFF;\n",
              "    }\n",
              "  </style>\n",
              "\n",
              "      <script>\n",
              "        const buttonEl =\n",
              "          document.querySelector('#df-2b6ad137-1f4c-480b-b9b4-42281aa8fc4c button.colab-df-convert');\n",
              "        buttonEl.style.display =\n",
              "          google.colab.kernel.accessAllowed ? 'block' : 'none';\n",
              "\n",
              "        async function convertToInteractive(key) {\n",
              "          const element = document.querySelector('#df-2b6ad137-1f4c-480b-b9b4-42281aa8fc4c');\n",
              "          const dataTable =\n",
              "            await google.colab.kernel.invokeFunction('convertToInteractive',\n",
              "                                                     [key], {});\n",
              "          if (!dataTable) return;\n",
              "\n",
              "          const docLinkHtml = 'Like what you see? Visit the ' +\n",
              "            '<a target=\"_blank\" href=https://colab.research.google.com/notebooks/data_table.ipynb>data table notebook</a>'\n",
              "            + ' to learn more about interactive tables.';\n",
              "          element.innerHTML = '';\n",
              "          dataTable['output_type'] = 'display_data';\n",
              "          await google.colab.output.renderOutput(dataTable, element);\n",
              "          const docLink = document.createElement('div');\n",
              "          docLink.innerHTML = docLinkHtml;\n",
              "          element.appendChild(docLink);\n",
              "        }\n",
              "      </script>\n",
              "    </div>\n",
              "  </div>\n",
              "  "
            ]
          },
          "metadata": {},
          "execution_count": 4
        }
      ],
      "source": [
        "#first load dataset\n",
        "df=pd.read_csv(\"/content/drive/MyDrive/ML Case_Study/employee_data.csv\")\n",
        "#df =pd.read_csv(r\"path\") r: means carriage return\n",
        "#to show first five records from dataset\n",
        "df.head() "
      ]
    },
    {
      "cell_type": "code",
      "execution_count": 5,
      "id": "fo2nusGDBSAg",
      "metadata": {
        "colab": {
          "base_uri": "https://localhost:8080/"
        },
        "id": "fo2nusGDBSAg",
        "outputId": "174c25b6-84d4-4fdc-e175-46b67c9e41a5"
      },
      "outputs": [
        {
          "output_type": "stream",
          "name": "stdout",
          "text": [
            "Drive already mounted at /content/drive; to attempt to forcibly remount, call drive.mount(\"/content/drive\", force_remount=True).\n"
          ]
        }
      ],
      "source": [
        "from google.colab import drive\n",
        "drive.mount('/content/drive')"
      ]
    },
    {
      "cell_type": "code",
      "execution_count": 5,
      "id": "VoG6rUJs3vWo",
      "metadata": {
        "id": "VoG6rUJs3vWo"
      },
      "outputs": [],
      "source": []
    },
    {
      "cell_type": "code",
      "execution_count": 6,
      "id": "4ada3561",
      "metadata": {
        "colab": {
          "base_uri": "https://localhost:8080/"
        },
        "id": "4ada3561",
        "outputId": "e906c15b-1ced-4b5d-be8e-6c4a560614a9"
      },
      "outputs": [
        {
          "output_type": "execute_result",
          "data": {
            "text/plain": [
              "(11582, 10)"
            ]
          },
          "metadata": {},
          "execution_count": 6
        }
      ],
      "source": [
        "#chceking no. of columns and no. of rows\n",
        "df.shape"
      ]
    },
    {
      "cell_type": "code",
      "execution_count": 7,
      "id": "ebdfc1ea",
      "metadata": {
        "colab": {
          "base_uri": "https://localhost:8080/"
        },
        "id": "ebdfc1ea",
        "outputId": "f9f5dd83-b33e-4cfb-87ce-4b5d5416cb3f"
      },
      "outputs": [
        {
          "output_type": "execute_result",
          "data": {
            "text/plain": [
              "array([1, 0])"
            ]
          },
          "metadata": {},
          "execution_count": 7
        }
      ],
      "source": [
        "df[\"quit\"].unique()"
      ]
    },
    {
      "cell_type": "code",
      "execution_count": 8,
      "id": "64a1a832",
      "metadata": {
        "id": "64a1a832"
      },
      "outputs": [],
      "source": [
        "#output column have categorical data so we go for classification\n"
      ]
    },
    {
      "cell_type": "code",
      "execution_count": 9,
      "id": "9360ff99",
      "metadata": {
        "colab": {
          "base_uri": "https://localhost:8080/"
        },
        "id": "9360ff99",
        "outputId": "95757202-3adb-4165-db03-2d62edc7e280"
      },
      "outputs": [
        {
          "output_type": "execute_result",
          "data": {
            "text/plain": [
              "satisfaction_level       0\n",
              "last_evaluation          0\n",
              "number_project           0\n",
              "average_montly_hours     0\n",
              "time_spend_company       0\n",
              "Work_accident            0\n",
              "quit                     0\n",
              "promotion_last_5years    1\n",
              "department               1\n",
              "salary                   1\n",
              "dtype: int64"
            ]
          },
          "metadata": {},
          "execution_count": 9
        }
      ],
      "source": [
        "#chcek the null values\n",
        "df.isnull().sum()"
      ]
    },
    {
      "cell_type": "code",
      "execution_count": 10,
      "id": "9636be90",
      "metadata": {
        "colab": {
          "base_uri": "https://localhost:8080/"
        },
        "id": "9636be90",
        "outputId": "137941e8-07a9-462a-abd9-c111699eddab"
      },
      "outputs": [
        {
          "output_type": "execute_result",
          "data": {
            "text/plain": [
              "satisfaction_level       float64\n",
              "last_evaluation          float64\n",
              "number_project             int64\n",
              "average_montly_hours       int64\n",
              "time_spend_company         int64\n",
              "Work_accident              int64\n",
              "quit                       int64\n",
              "promotion_last_5years    float64\n",
              "department                object\n",
              "salary                    object\n",
              "dtype: object"
            ]
          },
          "metadata": {},
          "execution_count": 10
        }
      ],
      "source": [
        "#chceking the datatypes of each columns in given dataset\n",
        "df.dtypes"
      ]
    },
    {
      "cell_type": "code",
      "execution_count": 11,
      "id": "5fdb4bd0",
      "metadata": {
        "colab": {
          "base_uri": "https://localhost:8080/",
          "height": 300
        },
        "id": "5fdb4bd0",
        "outputId": "2693cdcd-1c00-4351-c379-f3a07632f8fe"
      },
      "outputs": [
        {
          "output_type": "execute_result",
          "data": {
            "text/plain": [
              "       satisfaction_level  last_evaluation  number_project  \\\n",
              "count        11582.000000     11582.000000    11582.000000   \n",
              "mean             0.628308         0.716608        3.802884   \n",
              "std              0.241985         0.168828        1.169843   \n",
              "min              0.090000         0.360000        2.000000   \n",
              "25%              0.480000         0.570000        3.000000   \n",
              "50%              0.660000         0.720000        4.000000   \n",
              "75%              0.820000         0.870000        5.000000   \n",
              "max              1.000000         1.000000        7.000000   \n",
              "\n",
              "       average_montly_hours  time_spend_company  Work_accident          quit  \\\n",
              "count          11582.000000        11582.000000   11582.000000  11582.000000   \n",
              "mean             200.523053            3.305215       0.152651      0.172682   \n",
              "std               48.839268            1.209369       0.359666      0.377988   \n",
              "min               96.000000            2.000000       0.000000      0.000000   \n",
              "25%              157.000000            3.000000       0.000000      0.000000   \n",
              "50%              200.000000            3.000000       0.000000      0.000000   \n",
              "75%              243.000000            4.000000       0.000000      0.000000   \n",
              "max              310.000000           10.000000       1.000000      1.000000   \n",
              "\n",
              "       promotion_last_5years  \n",
              "count           11581.000000  \n",
              "mean                0.013816  \n",
              "std                 0.116731  \n",
              "min                 0.000000  \n",
              "25%                 0.000000  \n",
              "50%                 0.000000  \n",
              "75%                 0.000000  \n",
              "max                 1.000000  "
            ],
            "text/html": [
              "\n",
              "  <div id=\"df-7aaa91fa-6438-45d7-a3bd-74dd43dff7e8\">\n",
              "    <div class=\"colab-df-container\">\n",
              "      <div>\n",
              "<style scoped>\n",
              "    .dataframe tbody tr th:only-of-type {\n",
              "        vertical-align: middle;\n",
              "    }\n",
              "\n",
              "    .dataframe tbody tr th {\n",
              "        vertical-align: top;\n",
              "    }\n",
              "\n",
              "    .dataframe thead th {\n",
              "        text-align: right;\n",
              "    }\n",
              "</style>\n",
              "<table border=\"1\" class=\"dataframe\">\n",
              "  <thead>\n",
              "    <tr style=\"text-align: right;\">\n",
              "      <th></th>\n",
              "      <th>satisfaction_level</th>\n",
              "      <th>last_evaluation</th>\n",
              "      <th>number_project</th>\n",
              "      <th>average_montly_hours</th>\n",
              "      <th>time_spend_company</th>\n",
              "      <th>Work_accident</th>\n",
              "      <th>quit</th>\n",
              "      <th>promotion_last_5years</th>\n",
              "    </tr>\n",
              "  </thead>\n",
              "  <tbody>\n",
              "    <tr>\n",
              "      <th>count</th>\n",
              "      <td>11582.000000</td>\n",
              "      <td>11582.000000</td>\n",
              "      <td>11582.000000</td>\n",
              "      <td>11582.000000</td>\n",
              "      <td>11582.000000</td>\n",
              "      <td>11582.000000</td>\n",
              "      <td>11582.000000</td>\n",
              "      <td>11581.000000</td>\n",
              "    </tr>\n",
              "    <tr>\n",
              "      <th>mean</th>\n",
              "      <td>0.628308</td>\n",
              "      <td>0.716608</td>\n",
              "      <td>3.802884</td>\n",
              "      <td>200.523053</td>\n",
              "      <td>3.305215</td>\n",
              "      <td>0.152651</td>\n",
              "      <td>0.172682</td>\n",
              "      <td>0.013816</td>\n",
              "    </tr>\n",
              "    <tr>\n",
              "      <th>std</th>\n",
              "      <td>0.241985</td>\n",
              "      <td>0.168828</td>\n",
              "      <td>1.169843</td>\n",
              "      <td>48.839268</td>\n",
              "      <td>1.209369</td>\n",
              "      <td>0.359666</td>\n",
              "      <td>0.377988</td>\n",
              "      <td>0.116731</td>\n",
              "    </tr>\n",
              "    <tr>\n",
              "      <th>min</th>\n",
              "      <td>0.090000</td>\n",
              "      <td>0.360000</td>\n",
              "      <td>2.000000</td>\n",
              "      <td>96.000000</td>\n",
              "      <td>2.000000</td>\n",
              "      <td>0.000000</td>\n",
              "      <td>0.000000</td>\n",
              "      <td>0.000000</td>\n",
              "    </tr>\n",
              "    <tr>\n",
              "      <th>25%</th>\n",
              "      <td>0.480000</td>\n",
              "      <td>0.570000</td>\n",
              "      <td>3.000000</td>\n",
              "      <td>157.000000</td>\n",
              "      <td>3.000000</td>\n",
              "      <td>0.000000</td>\n",
              "      <td>0.000000</td>\n",
              "      <td>0.000000</td>\n",
              "    </tr>\n",
              "    <tr>\n",
              "      <th>50%</th>\n",
              "      <td>0.660000</td>\n",
              "      <td>0.720000</td>\n",
              "      <td>4.000000</td>\n",
              "      <td>200.000000</td>\n",
              "      <td>3.000000</td>\n",
              "      <td>0.000000</td>\n",
              "      <td>0.000000</td>\n",
              "      <td>0.000000</td>\n",
              "    </tr>\n",
              "    <tr>\n",
              "      <th>75%</th>\n",
              "      <td>0.820000</td>\n",
              "      <td>0.870000</td>\n",
              "      <td>5.000000</td>\n",
              "      <td>243.000000</td>\n",
              "      <td>4.000000</td>\n",
              "      <td>0.000000</td>\n",
              "      <td>0.000000</td>\n",
              "      <td>0.000000</td>\n",
              "    </tr>\n",
              "    <tr>\n",
              "      <th>max</th>\n",
              "      <td>1.000000</td>\n",
              "      <td>1.000000</td>\n",
              "      <td>7.000000</td>\n",
              "      <td>310.000000</td>\n",
              "      <td>10.000000</td>\n",
              "      <td>1.000000</td>\n",
              "      <td>1.000000</td>\n",
              "      <td>1.000000</td>\n",
              "    </tr>\n",
              "  </tbody>\n",
              "</table>\n",
              "</div>\n",
              "      <button class=\"colab-df-convert\" onclick=\"convertToInteractive('df-7aaa91fa-6438-45d7-a3bd-74dd43dff7e8')\"\n",
              "              title=\"Convert this dataframe to an interactive table.\"\n",
              "              style=\"display:none;\">\n",
              "        \n",
              "  <svg xmlns=\"http://www.w3.org/2000/svg\" height=\"24px\"viewBox=\"0 0 24 24\"\n",
              "       width=\"24px\">\n",
              "    <path d=\"M0 0h24v24H0V0z\" fill=\"none\"/>\n",
              "    <path d=\"M18.56 5.44l.94 2.06.94-2.06 2.06-.94-2.06-.94-.94-2.06-.94 2.06-2.06.94zm-11 1L8.5 8.5l.94-2.06 2.06-.94-2.06-.94L8.5 2.5l-.94 2.06-2.06.94zm10 10l.94 2.06.94-2.06 2.06-.94-2.06-.94-.94-2.06-.94 2.06-2.06.94z\"/><path d=\"M17.41 7.96l-1.37-1.37c-.4-.4-.92-.59-1.43-.59-.52 0-1.04.2-1.43.59L10.3 9.45l-7.72 7.72c-.78.78-.78 2.05 0 2.83L4 21.41c.39.39.9.59 1.41.59.51 0 1.02-.2 1.41-.59l7.78-7.78 2.81-2.81c.8-.78.8-2.07 0-2.86zM5.41 20L4 18.59l7.72-7.72 1.47 1.35L5.41 20z\"/>\n",
              "  </svg>\n",
              "      </button>\n",
              "      \n",
              "  <style>\n",
              "    .colab-df-container {\n",
              "      display:flex;\n",
              "      flex-wrap:wrap;\n",
              "      gap: 12px;\n",
              "    }\n",
              "\n",
              "    .colab-df-convert {\n",
              "      background-color: #E8F0FE;\n",
              "      border: none;\n",
              "      border-radius: 50%;\n",
              "      cursor: pointer;\n",
              "      display: none;\n",
              "      fill: #1967D2;\n",
              "      height: 32px;\n",
              "      padding: 0 0 0 0;\n",
              "      width: 32px;\n",
              "    }\n",
              "\n",
              "    .colab-df-convert:hover {\n",
              "      background-color: #E2EBFA;\n",
              "      box-shadow: 0px 1px 2px rgba(60, 64, 67, 0.3), 0px 1px 3px 1px rgba(60, 64, 67, 0.15);\n",
              "      fill: #174EA6;\n",
              "    }\n",
              "\n",
              "    [theme=dark] .colab-df-convert {\n",
              "      background-color: #3B4455;\n",
              "      fill: #D2E3FC;\n",
              "    }\n",
              "\n",
              "    [theme=dark] .colab-df-convert:hover {\n",
              "      background-color: #434B5C;\n",
              "      box-shadow: 0px 1px 3px 1px rgba(0, 0, 0, 0.15);\n",
              "      filter: drop-shadow(0px 1px 2px rgba(0, 0, 0, 0.3));\n",
              "      fill: #FFFFFF;\n",
              "    }\n",
              "  </style>\n",
              "\n",
              "      <script>\n",
              "        const buttonEl =\n",
              "          document.querySelector('#df-7aaa91fa-6438-45d7-a3bd-74dd43dff7e8 button.colab-df-convert');\n",
              "        buttonEl.style.display =\n",
              "          google.colab.kernel.accessAllowed ? 'block' : 'none';\n",
              "\n",
              "        async function convertToInteractive(key) {\n",
              "          const element = document.querySelector('#df-7aaa91fa-6438-45d7-a3bd-74dd43dff7e8');\n",
              "          const dataTable =\n",
              "            await google.colab.kernel.invokeFunction('convertToInteractive',\n",
              "                                                     [key], {});\n",
              "          if (!dataTable) return;\n",
              "\n",
              "          const docLinkHtml = 'Like what you see? Visit the ' +\n",
              "            '<a target=\"_blank\" href=https://colab.research.google.com/notebooks/data_table.ipynb>data table notebook</a>'\n",
              "            + ' to learn more about interactive tables.';\n",
              "          element.innerHTML = '';\n",
              "          dataTable['output_type'] = 'display_data';\n",
              "          await google.colab.output.renderOutput(dataTable, element);\n",
              "          const docLink = document.createElement('div');\n",
              "          docLink.innerHTML = docLinkHtml;\n",
              "          element.appendChild(docLink);\n",
              "        }\n",
              "      </script>\n",
              "    </div>\n",
              "  </div>\n",
              "  "
            ]
          },
          "metadata": {},
          "execution_count": 11
        }
      ],
      "source": [
        "#chceking mean and median value to understand if there is outlilers or nit\n",
        "df.describe()"
      ]
    },
    {
      "cell_type": "markdown",
      "source": [
        "# Starting EDA on dataset"
      ],
      "metadata": {
        "id": "d0XpjPl4tb_M"
      },
      "id": "d0XpjPl4tb_M"
    },
    {
      "cell_type": "code",
      "execution_count": 12,
      "id": "6e5e1a1e",
      "metadata": {
        "colab": {
          "base_uri": "https://localhost:8080/"
        },
        "id": "6e5e1a1e",
        "outputId": "4f368321-b42e-47fd-a978-6e7289b50102"
      },
      "outputs": [
        {
          "output_type": "stream",
          "name": "stdout",
          "text": [
            "0.0    11421\n",
            "1.0      160\n",
            "Name: promotion_last_5years, dtype: int64\n"
          ]
        }
      ],
      "source": [
        "#fillling null values on columns\n",
        "a=df[\"promotion_last_5years\"].value_counts()\n",
        "print(a)\n",
        "df[\"promotion_last_5years\"].fillna(0.0,inplace=True)"
      ]
    },
    {
      "cell_type": "code",
      "source": [
        "#chcek the null values again\n",
        "#convert data type of nor losses col from obj to float permenently\n",
        "df[\"promotion_last_5years\"]=df[\"promotion_last_5years\"].astype(\"int\")\n",
        "df.dtypes\n",
        "#df.isnull().sum()"
      ],
      "metadata": {
        "colab": {
          "base_uri": "https://localhost:8080/"
        },
        "id": "fbH60tzb09Kg",
        "outputId": "5332e451-5611-46a6-f8ff-6151e1e51dac"
      },
      "id": "fbH60tzb09Kg",
      "execution_count": 13,
      "outputs": [
        {
          "output_type": "execute_result",
          "data": {
            "text/plain": [
              "satisfaction_level       float64\n",
              "last_evaluation          float64\n",
              "number_project             int64\n",
              "average_montly_hours       int64\n",
              "time_spend_company         int64\n",
              "Work_accident              int64\n",
              "quit                       int64\n",
              "promotion_last_5years      int64\n",
              "department                object\n",
              "salary                    object\n",
              "dtype: object"
            ]
          },
          "metadata": {},
          "execution_count": 13
        }
      ]
    },
    {
      "cell_type": "code",
      "execution_count": 14,
      "id": "b8fdb690",
      "metadata": {
        "colab": {
          "base_uri": "https://localhost:8080/"
        },
        "id": "b8fdb690",
        "outputId": "61867640-b05e-4654-d011-488761923aad"
      },
      "outputs": [
        {
          "output_type": "execute_result",
          "data": {
            "text/plain": [
              "satisfaction_level       0\n",
              "last_evaluation          0\n",
              "number_project           0\n",
              "average_montly_hours     0\n",
              "time_spend_company       0\n",
              "Work_accident            0\n",
              "quit                     0\n",
              "promotion_last_5years    0\n",
              "department               0\n",
              "salary                   1\n",
              "dtype: int64"
            ]
          },
          "metadata": {},
          "execution_count": 14
        }
      ],
      "source": [
        "#checking frequency to null values in object type data\n",
        "df[\"department\"].value_counts()\n",
        "df[\"department\"].fillna(\"sales\",inplace=True)\n",
        "#chcek the null values again\n",
        "df.isnull().sum()"
      ]
    },
    {
      "cell_type": "code",
      "execution_count": 15,
      "id": "57fd7c32",
      "metadata": {
        "colab": {
          "base_uri": "https://localhost:8080/"
        },
        "id": "57fd7c32",
        "outputId": "98566b03-c027-4855-ca2c-7a17b8fee50c"
      },
      "outputs": [
        {
          "output_type": "execute_result",
          "data": {
            "text/plain": [
              "satisfaction_level       0\n",
              "last_evaluation          0\n",
              "number_project           0\n",
              "average_montly_hours     0\n",
              "time_spend_company       0\n",
              "Work_accident            0\n",
              "quit                     0\n",
              "promotion_last_5years    0\n",
              "department               0\n",
              "salary                   0\n",
              "dtype: int64"
            ]
          },
          "metadata": {},
          "execution_count": 15
        }
      ],
      "source": [
        "#checking frequency to null values in object type data\n",
        "df[\"salary\"].value_counts()\n",
        "df[\"salary\"].fillna(\"low\",inplace=True)\n",
        "#chcek the null values again\n",
        "df.isnull().sum()"
      ]
    },
    {
      "cell_type": "code",
      "execution_count": 16,
      "id": "f3abf72e",
      "metadata": {
        "colab": {
          "base_uri": "https://localhost:8080/",
          "height": 374
        },
        "id": "f3abf72e",
        "outputId": "a59e3178-96c9-4186-d8f8-6d6a423395d7"
      },
      "outputs": [
        {
          "output_type": "display_data",
          "data": {
            "text/plain": [
              "<Figure size 432x288 with 2 Axes>"
            ],
            "image/png": "[encoded data removed]"
          },
          "metadata": {
            "needs_background": "light"
          }
        }
      ],
      "source": [
        "#visualize the null values \n",
        "sb.heatmap(df.isnull())\n",
        "plt.show()"
      ]
    },
    {
      "cell_type": "code",
      "execution_count": 17,
      "id": "a6b9cec9",
      "metadata": {
        "colab": {
          "base_uri": "https://localhost:8080/"
        },
        "id": "a6b9cec9",
        "outputId": "f4a24183-4e56-4350-b6c9-90a1e7e0e804"
      },
      "outputs": [
        {
          "output_type": "execute_result",
          "data": {
            "text/plain": [
              "9"
            ]
          },
          "metadata": {},
          "execution_count": 17
        }
      ],
      "source": [
        "#chcek duplicate values\n",
        "df.duplicated().sum()"
      ]
    },
    {
      "cell_type": "code",
      "execution_count": 18,
      "id": "9a645d42",
      "metadata": {
        "id": "9a645d42"
      },
      "outputs": [],
      "source": [
        "#drop the duplicated values\n",
        "df.drop_duplicates(inplace=True)"
      ]
    },
    {
      "cell_type": "code",
      "execution_count": 19,
      "id": "cd4b8d8b",
      "metadata": {
        "colab": {
          "base_uri": "https://localhost:8080/"
        },
        "id": "cd4b8d8b",
        "outputId": "9d3d8253-a730-4bef-921a-28b82f8bcb8d"
      },
      "outputs": [
        {
          "output_type": "execute_result",
          "data": {
            "text/plain": [
              "0"
            ]
          },
          "metadata": {},
          "execution_count": 19
        }
      ],
      "source": [
        "#chcek duplicate values again\n",
        "df.duplicated().sum()"
      ]
    },
    {
      "cell_type": "code",
      "execution_count": 20,
      "id": "25ebb195",
      "metadata": {
        "colab": {
          "base_uri": "https://localhost:8080/"
        },
        "id": "25ebb195",
        "outputId": "1ff84816-a2fa-440a-e0c7-a70f227f6e07"
      },
      "outputs": [
        {
          "output_type": "execute_result",
          "data": {
            "text/plain": [
              "0    9582\n",
              "1    1991\n",
              "Name: quit, dtype: int64"
            ]
          },
          "metadata": {},
          "execution_count": 20
        }
      ],
      "source": [
        "#chcek if data is balan(ced or not\n",
        "df[\"quit\"].value_counts()"
      ]
    },
    {
      "cell_type": "code",
      "execution_count": 21,
      "id": "f435cc58",
      "metadata": {
        "colab": {
          "base_uri": "https://localhost:8080/",
          "height": 279
        },
        "id": "f435cc58",
        "outputId": "251ccb7a-81b8-4eb3-fde8-3e4d06e42f6a"
      },
      "outputs": [
        {
          "output_type": "display_data",
          "data": {
            "text/plain": [
              "<Figure size 432x288 with 1 Axes>"
            ],
            "image/png": "[encoded data removed]"
          },
          "metadata": {
            "needs_background": "light"
          }
        }
      ],
      "source": [
        "#output column has categorical data so we will go for classification algorithms\n",
        "#to see visually\n",
        "sb.countplot(data=df,x=\"quit\")\n",
        "f=df[\"quit\"].value_counts()\n",
        "plt.yticks(f)\n",
        "plt.show()"
      ]
    },
    {
      "cell_type": "code",
      "execution_count": 22,
      "id": "6942fb4e",
      "metadata": {
        "colab": {
          "base_uri": "https://localhost:8080/",
          "height": 206
        },
        "id": "6942fb4e",
        "outputId": "f6c38761-6b4f-4f1c-809a-8cba2c2ccd18"
      },
      "outputs": [
        {
          "output_type": "execute_result",
          "data": {
            "text/plain": [
              "   satisfaction_level  last_evaluation  number_project  average_montly_hours  \\\n",
              "0                0.38             0.53               2                   157   \n",
              "1                0.80             0.86               5                   262   \n",
              "2                0.11             0.88               7                   272   \n",
              "3                0.72             0.87               5                   223   \n",
              "4                0.37             0.52               2                   159   \n",
              "\n",
              "   time_spend_company  Work_accident  quit  promotion_last_5years  \n",
              "0                   3              0     1                      0  \n",
              "1                   6              0     1                      0  \n",
              "2                   4              0     1                      0  \n",
              "3                   5              0     1                      0  \n",
              "4                   3              0     1                      0  "
            ],
            "text/html": [
              "\n",
              "  <div id=\"df-bb86cec9-86b9-4bd1-9c7c-9fbf0bddcbb0\">\n",
              "    <div class=\"colab-df-container\">\n",
              "      <div>\n",
              "<style scoped>\n",
              "    .dataframe tbody tr th:only-of-type {\n",
              "        vertical-align: middle;\n",
              "    }\n",
              "\n",
              "    .dataframe tbody tr th {\n",
              "        vertical-align: top;\n",
              "    }\n",
              "\n",
              "    .dataframe thead th {\n",
              "        text-align: right;\n",
              "    }\n",
              "</style>\n",
              "<table border=\"1\" class=\"dataframe\">\n",
              "  <thead>\n",
              "    <tr style=\"text-align: right;\">\n",
              "      <th></th>\n",
              "      <th>satisfaction_level</th>\n",
              "      <th>last_evaluation</th>\n",
              "      <th>number_project</th>\n",
              "      <th>average_montly_hours</th>\n",
              "      <th>time_spend_company</th>\n",
              "      <th>Work_accident</th>\n",
              "      <th>quit</th>\n",
              "      <th>promotion_last_5years</th>\n",
              "    </tr>\n",
              "  </thead>\n",
              "  <tbody>\n",
              "    <tr>\n",
              "      <th>0</th>\n",
              "      <td>0.38</td>\n",
              "      <td>0.53</td>\n",
              "      <td>2</td>\n",
              "      <td>157</td>\n",
              "      <td>3</td>\n",
              "      <td>0</td>\n",
              "      <td>1</td>\n",
              "      <td>0</td>\n",
              "    </tr>\n",
              "    <tr>\n",
              "      <th>1</th>\n",
              "      <td>0.80</td>\n",
              "      <td>0.86</td>\n",
              "      <td>5</td>\n",
              "      <td>262</td>\n",
              "      <td>6</td>\n",
              "      <td>0</td>\n",
              "      <td>1</td>\n",
              "      <td>0</td>\n",
              "    </tr>\n",
              "    <tr>\n",
              "      <th>2</th>\n",
              "      <td>0.11</td>\n",
              "      <td>0.88</td>\n",
              "      <td>7</td>\n",
              "      <td>272</td>\n",
              "      <td>4</td>\n",
              "      <td>0</td>\n",
              "      <td>1</td>\n",
              "      <td>0</td>\n",
              "    </tr>\n",
              "    <tr>\n",
              "      <th>3</th>\n",
              "      <td>0.72</td>\n",
              "      <td>0.87</td>\n",
              "      <td>5</td>\n",
              "      <td>223</td>\n",
              "      <td>5</td>\n",
              "      <td>0</td>\n",
              "      <td>1</td>\n",
              "      <td>0</td>\n",
              "    </tr>\n",
              "    <tr>\n",
              "      <th>4</th>\n",
              "      <td>0.37</td>\n",
              "      <td>0.52</td>\n",
              "      <td>2</td>\n",
              "      <td>159</td>\n",
              "      <td>3</td>\n",
              "      <td>0</td>\n",
              "      <td>1</td>\n",
              "      <td>0</td>\n",
              "    </tr>\n",
              "  </tbody>\n",
              "</table>\n",
              "</div>\n",
              "      <button class=\"colab-df-convert\" onclick=\"convertToInteractive('df-bb86cec9-86b9-4bd1-9c7c-9fbf0bddcbb0')\"\n",
              "              title=\"Convert this dataframe to an interactive table.\"\n",
              "              style=\"display:none;\">\n",
              "        \n",
              "  <svg xmlns=\"http://www.w3.org/2000/svg\" height=\"24px\"viewBox=\"0 0 24 24\"\n",
              "       width=\"24px\">\n",
              "    <path d=\"M0 0h24v24H0V0z\" fill=\"none\"/>\n",
              "    <path d=\"M18.56 5.44l.94 2.06.94-2.06 2.06-.94-2.06-.94-.94-2.06-.94 2.06-2.06.94zm-11 1L8.5 8.5l.94-2.06 2.06-.94-2.06-.94L8.5 2.5l-.94 2.06-2.06.94zm10 10l.94 2.06.94-2.06 2.06-.94-2.06-.94-.94-2.06-.94 2.06-2.06.94z\"/><path d=\"M17.41 7.96l-1.37-1.37c-.4-.4-.92-.59-1.43-.59-.52 0-1.04.2-1.43.59L10.3 9.45l-7.72 7.72c-.78.78-.78 2.05 0 2.83L4 21.41c.39.39.9.59 1.41.59.51 0 1.02-.2 1.41-.59l7.78-7.78 2.81-2.81c.8-.78.8-2.07 0-2.86zM5.41 20L4 18.59l7.72-7.72 1.47 1.35L5.41 20z\"/>\n",
              "  </svg>\n",
              "      </button>\n",
              "      \n",
              "  <style>\n",
              "    .colab-df-container {\n",
              "      display:flex;\n",
              "      flex-wrap:wrap;\n",
              "      gap: 12px;\n",
              "    }\n",
              "\n",
              "    .colab-df-convert {\n",
              "      background-color: #E8F0FE;\n",
              "      border: none;\n",
              "      border-radius: 50%;\n",
              "      cursor: pointer;\n",
              "      display: none;\n",
              "      fill: #1967D2;\n",
              "      height: 32px;\n",
              "      padding: 0 0 0 0;\n",
              "      width: 32px;\n",
              "    }\n",
              "\n",
              "    .colab-df-convert:hover {\n",
              "      background-color: #E2EBFA;\n",
              "      box-shadow: 0px 1px 2px rgba(60, 64, 67, 0.3), 0px 1px 3px 1px rgba(60, 64, 67, 0.15);\n",
              "      fill: #174EA6;\n",
              "    }\n",
              "\n",
              "    [theme=dark] .colab-df-convert {\n",
              "      background-color: #3B4455;\n",
              "      fill: #D2E3FC;\n",
              "    }\n",
              "\n",
              "    [theme=dark] .colab-df-convert:hover {\n",
              "      background-color: #434B5C;\n",
              "      box-shadow: 0px 1px 3px 1px rgba(0, 0, 0, 0.15);\n",
              "      filter: drop-shadow(0px 1px 2px rgba(0, 0, 0, 0.3));\n",
              "      fill: #FFFFFF;\n",
              "    }\n",
              "  </style>\n",
              "\n",
              "      <script>\n",
              "        const buttonEl =\n",
              "          document.querySelector('#df-bb86cec9-86b9-4bd1-9c7c-9fbf0bddcbb0 button.colab-df-convert');\n",
              "        buttonEl.style.display =\n",
              "          google.colab.kernel.accessAllowed ? 'block' : 'none';\n",
              "\n",
              "        async function convertToInteractive(key) {\n",
              "          const element = document.querySelector('#df-bb86cec9-86b9-4bd1-9c7c-9fbf0bddcbb0');\n",
              "          const dataTable =\n",
              "            await google.colab.kernel.invokeFunction('convertToInteractive',\n",
              "                                                     [key], {});\n",
              "          if (!dataTable) return;\n",
              "\n",
              "          const docLinkHtml = 'Like what you see? Visit the ' +\n",
              "            '<a target=\"_blank\" href=https://colab.research.google.com/notebooks/data_table.ipynb>data table notebook</a>'\n",
              "            + ' to learn more about interactive tables.';\n",
              "          element.innerHTML = '';\n",
              "          dataTable['output_type'] = 'display_data';\n",
              "          await google.colab.output.renderOutput(dataTable, element);\n",
              "          const docLink = document.createElement('div');\n",
              "          docLink.innerHTML = docLinkHtml;\n",
              "          element.appendChild(docLink);\n",
              "        }\n",
              "      </script>\n",
              "    </div>\n",
              "  </div>\n",
              "  "
            ]
          },
          "metadata": {},
          "execution_count": 22
        }
      ],
      "source": [
        "#data is unbalanced \n",
        "#splitting the data \n",
        "df_cat=df.select_dtypes(object)\n",
        "df_num=df.select_dtypes([\"int64\",\"float64\"])\n",
        "df_num.head()"
      ]
    },
    {
      "cell_type": "code",
      "execution_count": 23,
      "id": "309727ff",
      "metadata": {
        "id": "309727ff"
      },
      "outputs": [],
      "source": [
        "#apply LabelEncoder on df_cat\n",
        "from sklearn.preprocessing import LabelEncoder\n",
        "columns=df_cat.columns\n",
        "for col in columns:\n",
        "  #create object\n",
        "  le=LabelEncoder()\n",
        "  df_cat[col]=le.fit_transform(df_cat[col])\n"
      ]
    },
    {
      "cell_type": "code",
      "execution_count": 24,
      "id": "cb61d5d5",
      "metadata": {
        "colab": {
          "base_uri": "https://localhost:8080/",
          "height": 206
        },
        "id": "cb61d5d5",
        "outputId": "6cbbd9d6-a1c7-47c7-ed49-2981a0d914a8"
      },
      "outputs": [
        {
          "output_type": "execute_result",
          "data": {
            "text/plain": [
              "   department  salary\n",
              "0           7       1\n",
              "1           7       2\n",
              "2           7       2\n",
              "3           7       1\n",
              "4           7       1"
            ],
            "text/html": [
              "\n",
              "  <div id=\"df-815ab320-33a4-40ed-8fff-01ff81fc983d\">\n",
              "    <div class=\"colab-df-container\">\n",
              "      <div>\n",
              "<style scoped>\n",
              "    .dataframe tbody tr th:only-of-type {\n",
              "        vertical-align: middle;\n",
              "    }\n",
              "\n",
              "    .dataframe tbody tr th {\n",
              "        vertical-align: top;\n",
              "    }\n",
              "\n",
              "    .dataframe thead th {\n",
              "        text-align: right;\n",
              "    }\n",
              "</style>\n",
              "<table border=\"1\" class=\"dataframe\">\n",
              "  <thead>\n",
              "    <tr style=\"text-align: right;\">\n",
              "      <th></th>\n",
              "      <th>department</th>\n",
              "      <th>salary</th>\n",
              "    </tr>\n",
              "  </thead>\n",
              "  <tbody>\n",
              "    <tr>\n",
              "      <th>0</th>\n",
              "      <td>7</td>\n",
              "      <td>1</td>\n",
              "    </tr>\n",
              "    <tr>\n",
              "      <th>1</th>\n",
              "      <td>7</td>\n",
              "      <td>2</td>\n",
              "    </tr>\n",
              "    <tr>\n",
              "      <th>2</th>\n",
              "      <td>7</td>\n",
              "      <td>2</td>\n",
              "    </tr>\n",
              "    <tr>\n",
              "      <th>3</th>\n",
              "      <td>7</td>\n",
              "      <td>1</td>\n",
              "    </tr>\n",
              "    <tr>\n",
              "      <th>4</th>\n",
              "      <td>7</td>\n",
              "      <td>1</td>\n",
              "    </tr>\n",
              "  </tbody>\n",
              "</table>\n",
              "</div>\n",
              "      <button class=\"colab-df-convert\" onclick=\"convertToInteractive('df-815ab320-33a4-40ed-8fff-01ff81fc983d')\"\n",
              "              title=\"Convert this dataframe to an interactive table.\"\n",
              "              style=\"display:none;\">\n",
              "        \n",
              "  <svg xmlns=\"http://www.w3.org/2000/svg\" height=\"24px\"viewBox=\"0 0 24 24\"\n",
              "       width=\"24px\">\n",
              "    <path d=\"M0 0h24v24H0V0z\" fill=\"none\"/>\n",
              "    <path d=\"M18.56 5.44l.94 2.06.94-2.06 2.06-.94-2.06-.94-.94-2.06-.94 2.06-2.06.94zm-11 1L8.5 8.5l.94-2.06 2.06-.94-2.06-.94L8.5 2.5l-.94 2.06-2.06.94zm10 10l.94 2.06.94-2.06 2.06-.94-2.06-.94-.94-2.06-.94 2.06-2.06.94z\"/><path d=\"M17.41 7.96l-1.37-1.37c-.4-.4-.92-.59-1.43-.59-.52 0-1.04.2-1.43.59L10.3 9.45l-7.72 7.72c-.78.78-.78 2.05 0 2.83L4 21.41c.39.39.9.59 1.41.59.51 0 1.02-.2 1.41-.59l7.78-7.78 2.81-2.81c.8-.78.8-2.07 0-2.86zM5.41 20L4 18.59l7.72-7.72 1.47 1.35L5.41 20z\"/>\n",
              "  </svg>\n",
              "      </button>\n",
              "      \n",
              "  <style>\n",
              "    .colab-df-container {\n",
              "      display:flex;\n",
              "      flex-wrap:wrap;\n",
              "      gap: 12px;\n",
              "    }\n",
              "\n",
              "    .colab-df-convert {\n",
              "      background-color: #E8F0FE;\n",
              "      border: none;\n",
              "      border-radius: 50%;\n",
              "      cursor: pointer;\n",
              "      display: none;\n",
              "      fill: #1967D2;\n",
              "      height: 32px;\n",
              "      padding: 0 0 0 0;\n",
              "      width: 32px;\n",
              "    }\n",
              "\n",
              "    .colab-df-convert:hover {\n",
              "      background-color: #E2EBFA;\n",
              "      box-shadow: 0px 1px 2px rgba(60, 64, 67, 0.3), 0px 1px 3px 1px rgba(60, 64, 67, 0.15);\n",
              "      fill: #174EA6;\n",
              "    }\n",
              "\n",
              "    [theme=dark] .colab-df-convert {\n",
              "      background-color: #3B4455;\n",
              "      fill: #D2E3FC;\n",
              "    }\n",
              "\n",
              "    [theme=dark] .colab-df-convert:hover {\n",
              "      background-color: #434B5C;\n",
              "      box-shadow: 0px 1px 3px 1px rgba(0, 0, 0, 0.15);\n",
              "      filter: drop-shadow(0px 1px 2px rgba(0, 0, 0, 0.3));\n",
              "      fill: #FFFFFF;\n",
              "    }\n",
              "  </style>\n",
              "\n",
              "      <script>\n",
              "        const buttonEl =\n",
              "          document.querySelector('#df-815ab320-33a4-40ed-8fff-01ff81fc983d button.colab-df-convert');\n",
              "        buttonEl.style.display =\n",
              "          google.colab.kernel.accessAllowed ? 'block' : 'none';\n",
              "\n",
              "        async function convertToInteractive(key) {\n",
              "          const element = document.querySelector('#df-815ab320-33a4-40ed-8fff-01ff81fc983d');\n",
              "          const dataTable =\n",
              "            await google.colab.kernel.invokeFunction('convertToInteractive',\n",
              "                                                     [key], {});\n",
              "          if (!dataTable) return;\n",
              "\n",
              "          const docLinkHtml = 'Like what you see? Visit the ' +\n",
              "            '<a target=\"_blank\" href=https://colab.research.google.com/notebooks/data_table.ipynb>data table notebook</a>'\n",
              "            + ' to learn more about interactive tables.';\n",
              "          element.innerHTML = '';\n",
              "          dataTable['output_type'] = 'display_data';\n",
              "          await google.colab.output.renderOutput(dataTable, element);\n",
              "          const docLink = document.createElement('div');\n",
              "          docLink.innerHTML = docLinkHtml;\n",
              "          element.appendChild(docLink);\n",
              "        }\n",
              "      </script>\n",
              "    </div>\n",
              "  </div>\n",
              "  "
            ]
          },
          "metadata": {},
          "execution_count": 24
        }
      ],
      "source": [
        "df_cat.head()"
      ]
    },
    {
      "cell_type": "code",
      "execution_count": 25,
      "id": "44d6bdf6",
      "metadata": {
        "colab": {
          "base_uri": "https://localhost:8080/",
          "height": 206
        },
        "id": "44d6bdf6",
        "outputId": "9499a677-5d47-4a7d-da0e-3e469dd3545e"
      },
      "outputs": [
        {
          "output_type": "execute_result",
          "data": {
            "text/plain": [
              "   satisfaction_level  last_evaluation  number_project  average_montly_hours  \\\n",
              "0                0.38             0.53               2                   157   \n",
              "1                0.80             0.86               5                   262   \n",
              "2                0.11             0.88               7                   272   \n",
              "3                0.72             0.87               5                   223   \n",
              "4                0.37             0.52               2                   159   \n",
              "\n",
              "   time_spend_company  Work_accident  quit  promotion_last_5years  department  \\\n",
              "0                   3              0     1                      0           7   \n",
              "1                   6              0     1                      0           7   \n",
              "2                   4              0     1                      0           7   \n",
              "3                   5              0     1                      0           7   \n",
              "4                   3              0     1                      0           7   \n",
              "\n",
              "   salary  \n",
              "0       1  \n",
              "1       2  \n",
              "2       2  \n",
              "3       1  \n",
              "4       1  "
            ],
            "text/html": [
              "\n",
              "  <div id=\"df-1f78df01-dc85-492e-8a25-1d112ca8296e\">\n",
              "    <div class=\"colab-df-container\">\n",
              "      <div>\n",
              "<style scoped>\n",
              "    .dataframe tbody tr th:only-of-type {\n",
              "        vertical-align: middle;\n",
              "    }\n",
              "\n",
              "    .dataframe tbody tr th {\n",
              "        vertical-align: top;\n",
              "    }\n",
              "\n",
              "    .dataframe thead th {\n",
              "        text-align: right;\n",
              "    }\n",
              "</style>\n",
              "<table border=\"1\" class=\"dataframe\">\n",
              "  <thead>\n",
              "    <tr style=\"text-align: right;\">\n",
              "      <th></th>\n",
              "      <th>satisfaction_level</th>\n",
              "      <th>last_evaluation</th>\n",
              "      <th>number_project</th>\n",
              "      <th>average_montly_hours</th>\n",
              "      <th>time_spend_company</th>\n",
              "      <th>Work_accident</th>\n",
              "      <th>quit</th>\n",
              "      <th>promotion_last_5years</th>\n",
              "      <th>department</th>\n",
              "      <th>salary</th>\n",
              "    </tr>\n",
              "  </thead>\n",
              "  <tbody>\n",
              "    <tr>\n",
              "      <th>0</th>\n",
              "      <td>0.38</td>\n",
              "      <td>0.53</td>\n",
              "      <td>2</td>\n",
              "      <td>157</td>\n",
              "      <td>3</td>\n",
              "      <td>0</td>\n",
              "      <td>1</td>\n",
              "      <td>0</td>\n",
              "      <td>7</td>\n",
              "      <td>1</td>\n",
              "    </tr>\n",
              "    <tr>\n",
              "      <th>1</th>\n",
              "      <td>0.80</td>\n",
              "      <td>0.86</td>\n",
              "      <td>5</td>\n",
              "      <td>262</td>\n",
              "      <td>6</td>\n",
              "      <td>0</td>\n",
              "      <td>1</td>\n",
              "      <td>0</td>\n",
              "      <td>7</td>\n",
              "      <td>2</td>\n",
              "    </tr>\n",
              "    <tr>\n",
              "      <th>2</th>\n",
              "      <td>0.11</td>\n",
              "      <td>0.88</td>\n",
              "      <td>7</td>\n",
              "      <td>272</td>\n",
              "      <td>4</td>\n",
              "      <td>0</td>\n",
              "      <td>1</td>\n",
              "      <td>0</td>\n",
              "      <td>7</td>\n",
              "      <td>2</td>\n",
              "    </tr>\n",
              "    <tr>\n",
              "      <th>3</th>\n",
              "      <td>0.72</td>\n",
              "      <td>0.87</td>\n",
              "      <td>5</td>\n",
              "      <td>223</td>\n",
              "      <td>5</td>\n",
              "      <td>0</td>\n",
              "      <td>1</td>\n",
              "      <td>0</td>\n",
              "      <td>7</td>\n",
              "      <td>1</td>\n",
              "    </tr>\n",
              "    <tr>\n",
              "      <th>4</th>\n",
              "      <td>0.37</td>\n",
              "      <td>0.52</td>\n",
              "      <td>2</td>\n",
              "      <td>159</td>\n",
              "      <td>3</td>\n",
              "      <td>0</td>\n",
              "      <td>1</td>\n",
              "      <td>0</td>\n",
              "      <td>7</td>\n",
              "      <td>1</td>\n",
              "    </tr>\n",
              "  </tbody>\n",
              "</table>\n",
              "</div>\n",
              "      <button class=\"colab-df-convert\" onclick=\"convertToInteractive('df-1f78df01-dc85-492e-8a25-1d112ca8296e')\"\n",
              "              title=\"Convert this dataframe to an interactive table.\"\n",
              "              style=\"display:none;\">\n",
              "        \n",
              "  <svg xmlns=\"http://www.w3.org/2000/svg\" height=\"24px\"viewBox=\"0 0 24 24\"\n",
              "       width=\"24px\">\n",
              "    <path d=\"M0 0h24v24H0V0z\" fill=\"none\"/>\n",
              "    <path d=\"M18.56 5.44l.94 2.06.94-2.06 2.06-.94-2.06-.94-.94-2.06-.94 2.06-2.06.94zm-11 1L8.5 8.5l.94-2.06 2.06-.94-2.06-.94L8.5 2.5l-.94 2.06-2.06.94zm10 10l.94 2.06.94-2.06 2.06-.94-2.06-.94-.94-2.06-.94 2.06-2.06.94z\"/><path d=\"M17.41 7.96l-1.37-1.37c-.4-.4-.92-.59-1.43-.59-.52 0-1.04.2-1.43.59L10.3 9.45l-7.72 7.72c-.78.78-.78 2.05 0 2.83L4 21.41c.39.39.9.59 1.41.59.51 0 1.02-.2 1.41-.59l7.78-7.78 2.81-2.81c.8-.78.8-2.07 0-2.86zM5.41 20L4 18.59l7.72-7.72 1.47 1.35L5.41 20z\"/>\n",
              "  </svg>\n",
              "      </button>\n",
              "      \n",
              "  <style>\n",
              "    .colab-df-container {\n",
              "      display:flex;\n",
              "      flex-wrap:wrap;\n",
              "      gap: 12px;\n",
              "    }\n",
              "\n",
              "    .colab-df-convert {\n",
              "      background-color: #E8F0FE;\n",
              "      border: none;\n",
              "      border-radius: 50%;\n",
              "      cursor: pointer;\n",
              "      display: none;\n",
              "      fill: #1967D2;\n",
              "      height: 32px;\n",
              "      padding: 0 0 0 0;\n",
              "      width: 32px;\n",
              "    }\n",
              "\n",
              "    .colab-df-convert:hover {\n",
              "      background-color: #E2EBFA;\n",
              "      box-shadow: 0px 1px 2px rgba(60, 64, 67, 0.3), 0px 1px 3px 1px rgba(60, 64, 67, 0.15);\n",
              "      fill: #174EA6;\n",
              "    }\n",
              "\n",
              "    [theme=dark] .colab-df-convert {\n",
              "      background-color: #3B4455;\n",
              "      fill: #D2E3FC;\n",
              "    }\n",
              "\n",
              "    [theme=dark] .colab-df-convert:hover {\n",
              "      background-color: #434B5C;\n",
              "      box-shadow: 0px 1px 3px 1px rgba(0, 0, 0, 0.15);\n",
              "      filter: drop-shadow(0px 1px 2px rgba(0, 0, 0, 0.3));\n",
              "      fill: #FFFFFF;\n",
              "    }\n",
              "  </style>\n",
              "\n",
              "      <script>\n",
              "        const buttonEl =\n",
              "          document.querySelector('#df-1f78df01-dc85-492e-8a25-1d112ca8296e button.colab-df-convert');\n",
              "        buttonEl.style.display =\n",
              "          google.colab.kernel.accessAllowed ? 'block' : 'none';\n",
              "\n",
              "        async function convertToInteractive(key) {\n",
              "          const element = document.querySelector('#df-1f78df01-dc85-492e-8a25-1d112ca8296e');\n",
              "          const dataTable =\n",
              "            await google.colab.kernel.invokeFunction('convertToInteractive',\n",
              "                                                     [key], {});\n",
              "          if (!dataTable) return;\n",
              "\n",
              "          const docLinkHtml = 'Like what you see? Visit the ' +\n",
              "            '<a target=\"_blank\" href=https://colab.research.google.com/notebooks/data_table.ipynb>data table notebook</a>'\n",
              "            + ' to learn more about interactive tables.';\n",
              "          element.innerHTML = '';\n",
              "          dataTable['output_type'] = 'display_data';\n",
              "          await google.colab.output.renderOutput(dataTable, element);\n",
              "          const docLink = document.createElement('div');\n",
              "          docLink.innerHTML = docLinkHtml;\n",
              "          element.appendChild(docLink);\n",
              "        }\n",
              "      </script>\n",
              "    </div>\n",
              "  </div>\n",
              "  "
            ]
          },
          "metadata": {},
          "execution_count": 25
        }
      ],
      "source": [
        "#concatenate df_cat and df_num\n",
        "df_new=pd.concat([df_num,df_cat],axis=1)\n",
        "df_new.head()"
      ]
    },
    {
      "cell_type": "code",
      "execution_count": 26,
      "id": "b0a93b5c",
      "metadata": {
        "id": "b0a93b5c"
      },
      "outputs": [],
      "source": [
        "#splitting input and output\n",
        "x=df_new.drop(\"quit\",axis=1)\n",
        "y=df[\"quit\"]"
      ]
    },
    {
      "cell_type": "code",
      "execution_count": 27,
      "id": "a59e1513",
      "metadata": {
        "id": "a59e1513"
      },
      "outputs": [],
      "source": [
        "#train test split\n",
        "from sklearn.model_selection import train_test_split\n",
        "x_train,x_test,y_train,y_test=train_test_split(x,y,test_size=0.3,random_state=1)"
      ]
    },
    {
      "cell_type": "code",
      "execution_count": 28,
      "id": "753e5f76",
      "metadata": {
        "colab": {
          "base_uri": "https://localhost:8080/"
        },
        "id": "753e5f76",
        "outputId": "f403e386-5551-44ff-bca8-aadd2ac86d6d"
      },
      "outputs": [
        {
          "output_type": "execute_result",
          "data": {
            "text/plain": [
              "((8101, 9), (3472, 9), (8101,), (3472,))"
            ]
          },
          "metadata": {},
          "execution_count": 28
        }
      ],
      "source": [
        "x_train.shape,x_test.shape,y_train.shape,y_test.shape"
      ]
    },
    {
      "cell_type": "code",
      "execution_count": 29,
      "id": "1a7d4d08",
      "metadata": {
        "id": "1a7d4d08"
      },
      "outputs": [],
      "source": [
        "#we need to balance it using RandomOverSampler \n",
        "#!pip install imblearn use this if requirement is not already satisfied"
      ]
    },
    {
      "cell_type": "code",
      "execution_count": 30,
      "id": "53a8d7c9",
      "metadata": {
        "id": "53a8d7c9"
      },
      "outputs": [],
      "source": [
        "#first randonoversampler\n",
        "from imblearn.over_sampling import RandomOverSampler"
      ]
    },
    {
      "cell_type": "code",
      "execution_count": 31,
      "id": "e891aefe",
      "metadata": {
        "colab": {
          "base_uri": "https://localhost:8080/"
        },
        "id": "e891aefe",
        "outputId": "f441dc95-a62a-4fe1-a415-c19d5497d5be"
      },
      "outputs": [
        {
          "output_type": "execute_result",
          "data": {
            "text/plain": [
              "((8101, 9), (8101,))"
            ]
          },
          "metadata": {},
          "execution_count": 31
        }
      ],
      "source": [
        "x_train.shape,y_train.shape"
      ]
    },
    {
      "cell_type": "code",
      "execution_count": 32,
      "id": "f9ae0e89",
      "metadata": {
        "id": "f9ae0e89"
      },
      "outputs": [],
      "source": [
        "#from sklearn.preprocessing import StandardScaler\n",
        "#creating object for StandardScaler class\n",
        "from sklearn.preprocessing import StandardScaler\n",
        "ss=StandardScaler()\n",
        "x_train=ss.fit_transform(x_train)\n",
        "x_test=ss.transform(x_test)"
      ]
    },
    {
      "cell_type": "code",
      "execution_count": 33,
      "id": "6uRJ3QwhB2OP",
      "metadata": {
        "id": "6uRJ3QwhB2OP"
      },
      "outputs": [],
      "source": [
        "#to convert minority class into majority class\n",
        "#use RandomOverSampler\n",
        "ros=RandomOverSampler(random_state=1)"
      ]
    },
    {
      "cell_type": "code",
      "execution_count": 34,
      "id": "aoQlKztkB6Lt",
      "metadata": {
        "id": "aoQlKztkB6Lt"
      },
      "outputs": [],
      "source": [
        "#apply oversampler on training data\n",
        "x_trainros,y_trainros=ros.fit_resample(x_train,y_train)"
      ]
    },
    {
      "cell_type": "code",
      "execution_count": 35,
      "id": "UD4zjI9xB8Gl",
      "metadata": {
        "colab": {
          "base_uri": "https://localhost:8080/"
        },
        "id": "UD4zjI9xB8Gl",
        "outputId": "8e124ad3-046e-4170-fff1-77945ec23c42"
      },
      "outputs": [
        {
          "output_type": "execute_result",
          "data": {
            "text/plain": [
              "1    6738\n",
              "0    6738\n",
              "Name: quit, dtype: int64"
            ]
          },
          "metadata": {},
          "execution_count": 35
        }
      ],
      "source": [
        "y_trainros.value_counts()"
      ]
    },
    {
      "cell_type": "code",
      "execution_count": 36,
      "id": "yfoMfyi2B_Br",
      "metadata": {
        "colab": {
          "base_uri": "https://localhost:8080/"
        },
        "id": "yfoMfyi2B_Br",
        "outputId": "a0c58693-116f-41a2-c069-a314a5e4b78c"
      },
      "outputs": [
        {
          "output_type": "execute_result",
          "data": {
            "text/plain": [
              "((13476, 9), (13476,))"
            ]
          },
          "metadata": {},
          "execution_count": 36
        }
      ],
      "source": [
        "x_trainros.shape,y_trainros.shape"
      ]
    },
    {
      "cell_type": "code",
      "execution_count": 37,
      "id": "rvWuz9lEDODU",
      "metadata": {
        "id": "rvWuz9lEDODU"
      },
      "outputs": [],
      "source": [
        "#also apply oversampler on testing data\n",
        "x_testros,y_testros=ros.fit_resample(x_test,y_test)"
      ]
    },
    {
      "cell_type": "code",
      "execution_count": 38,
      "id": "Z0TwDpbMCVds",
      "metadata": {
        "id": "Z0TwDpbMCVds"
      },
      "outputs": [],
      "source": [
        "#create function\n",
        "def create_model(model):\n",
        "    #train the model with70% data\n",
        "    model.fit(x_trainros,y_trainros)\n",
        "    # test the model with 30% data\n",
        "    y_pred=model.predict(x_testros)\n",
        "    #genrate thye report\n",
        "    print(classification_report(y_testros,y_pred))\n",
        "    print(confusion_matrix(y_testros,y_pred))\n",
        "    return model\n",
        "\n",
        "#import libraries\n",
        "from sklearn.metrics import classification_report,confusion_matrix\n"
      ]
    },
    {
      "cell_type": "markdown",
      "source": [
        "# Logistic Regreesion"
      ],
      "metadata": {
        "id": "xviMMSQXolVe"
      },
      "id": "xviMMSQXolVe"
    },
    {
      "cell_type": "markdown",
      "source": [],
      "metadata": {
        "id": "lC16sE8-odZu"
      },
      "id": "lC16sE8-odZu"
    },
    {
      "cell_type": "code",
      "source": [
        "#apply logistic algorithm\n",
        "#import LogisticRagresion\n",
        "from sklearn.linear_model import LogisticRegression\n",
        "lor=LogisticRegression()\n",
        "#call the function\n",
        "lor=create_model(lor)"
      ],
      "metadata": {
        "colab": {
          "base_uri": "https://localhost:8080/"
        },
        "id": "Iu6L-4UboTrJ",
        "outputId": "9e344d1b-ae44-466c-9e88-afafc0907557"
      },
      "id": "Iu6L-4UboTrJ",
      "execution_count": 39,
      "outputs": [
        {
          "output_type": "stream",
          "name": "stdout",
          "text": [
            "              precision    recall  f1-score   support\n",
            "\n",
            "           0       0.79      0.78      0.78      2844\n",
            "           1       0.78      0.79      0.79      2844\n",
            "\n",
            "    accuracy                           0.78      5688\n",
            "   macro avg       0.78      0.78      0.78      5688\n",
            "weighted avg       0.78      0.78      0.78      5688\n",
            "\n",
            "[[2213  631]\n",
            " [ 596 2248]]\n"
          ]
        }
      ]
    },
    {
      "cell_type": "markdown",
      "source": [
        "# Decision Tree(GINI)"
      ],
      "metadata": {
        "id": "F5aQouZzo5f6"
      },
      "id": "F5aQouZzo5f6"
    },
    {
      "cell_type": "code",
      "execution_count": 40,
      "id": "5rZXPTZWC0_2",
      "metadata": {
        "id": "5rZXPTZWC0_2"
      },
      "outputs": [],
      "source": [
        "#apply decision tree aglorithm for gini index\n",
        "#perform DecisionTreeClassifier\n",
        "from sklearn.tree import DecisionTreeClassifier\n",
        "#to create an object\n",
        "dt=DecisionTreeClassifier(random_state=1) #by default gini index method\n"
      ]
    },
    {
      "cell_type": "code",
      "execution_count": 41,
      "id": "geJhQcRjEAnk",
      "metadata": {
        "colab": {
          "base_uri": "https://localhost:8080/"
        },
        "id": "geJhQcRjEAnk",
        "outputId": "2baf6630-7ea2-4144-b22b-e95bf5c4a0d3"
      },
      "outputs": [
        {
          "output_type": "stream",
          "name": "stdout",
          "text": [
            "              precision    recall  f1-score   support\n",
            "\n",
            "           0       0.93      0.98      0.95      2844\n",
            "           1       0.98      0.92      0.95      2844\n",
            "\n",
            "    accuracy                           0.95      5688\n",
            "   macro avg       0.95      0.95      0.95      5688\n",
            "weighted avg       0.95      0.95      0.95      5688\n",
            "\n",
            "[[2784   60]\n",
            " [ 216 2628]]\n"
          ]
        }
      ],
      "source": [
        "#call the function \n",
        "dt=create_model(dt)"
      ]
    },
    {
      "cell_type": "code",
      "execution_count": 42,
      "id": "tryzFPGMEDY2",
      "metadata": {
        "colab": {
          "base_uri": "https://localhost:8080/"
        },
        "id": "tryzFPGMEDY2",
        "outputId": "5dd87b46-2acb-4154-ace5-a247d31e7846"
      },
      "outputs": [
        {
          "output_type": "execute_result",
          "data": {
            "text/plain": [
              "array([0.43820738, 0.10394971, 0.03588649, 0.06751939, 0.3360422 ,\n",
              "       0.00158612, 0.        , 0.01583505, 0.00097367])"
            ]
          },
          "metadata": {},
          "execution_count": 42
        }
      ],
      "source": [
        "#to see imp features ,menas IG of each input \n",
        "dt.feature_importances_"
      ]
    },
    {
      "cell_type": "code",
      "execution_count": 43,
      "id": "lExkIT44EHZ6",
      "metadata": {
        "colab": {
          "base_uri": "https://localhost:8080/",
          "height": 331
        },
        "id": "lExkIT44EHZ6",
        "outputId": "6958d487-098f-4168-cdac-3f3dfc14189e"
      },
      "outputs": [
        {
          "output_type": "execute_result",
          "data": {
            "text/plain": [
              "                   Input        IG\n",
              "0     satisfaction_level  0.438207\n",
              "1        last_evaluation  0.103950\n",
              "2         number_project  0.035886\n",
              "3   average_montly_hours  0.067519\n",
              "4     time_spend_company  0.336042\n",
              "5          Work_accident  0.001586\n",
              "6  promotion_last_5years  0.000000\n",
              "7             department  0.015835\n",
              "8                 salary  0.000974"
            ],
            "text/html": [
              "\n",
              "  <div id=\"df-dd59c45c-e18b-45d4-9aa4-80cd29c7a7cc\">\n",
              "    <div class=\"colab-df-container\">\n",
              "      <div>\n",
              "<style scoped>\n",
              "    .dataframe tbody tr th:only-of-type {\n",
              "        vertical-align: middle;\n",
              "    }\n",
              "\n",
              "    .dataframe tbody tr th {\n",
              "        vertical-align: top;\n",
              "    }\n",
              "\n",
              "    .dataframe thead th {\n",
              "        text-align: right;\n",
              "    }\n",
              "</style>\n",
              "<table border=\"1\" class=\"dataframe\">\n",
              "  <thead>\n",
              "    <tr style=\"text-align: right;\">\n",
              "      <th></th>\n",
              "      <th>Input</th>\n",
              "      <th>IG</th>\n",
              "    </tr>\n",
              "  </thead>\n",
              "  <tbody>\n",
              "    <tr>\n",
              "      <th>0</th>\n",
              "      <td>satisfaction_level</td>\n",
              "      <td>0.438207</td>\n",
              "    </tr>\n",
              "    <tr>\n",
              "      <th>1</th>\n",
              "      <td>last_evaluation</td>\n",
              "      <td>0.103950</td>\n",
              "    </tr>\n",
              "    <tr>\n",
              "      <th>2</th>\n",
              "      <td>number_project</td>\n",
              "      <td>0.035886</td>\n",
              "    </tr>\n",
              "    <tr>\n",
              "      <th>3</th>\n",
              "      <td>average_montly_hours</td>\n",
              "      <td>0.067519</td>\n",
              "    </tr>\n",
              "    <tr>\n",
              "      <th>4</th>\n",
              "      <td>time_spend_company</td>\n",
              "      <td>0.336042</td>\n",
              "    </tr>\n",
              "    <tr>\n",
              "      <th>5</th>\n",
              "      <td>Work_accident</td>\n",
              "      <td>0.001586</td>\n",
              "    </tr>\n",
              "    <tr>\n",
              "      <th>6</th>\n",
              "      <td>promotion_last_5years</td>\n",
              "      <td>0.000000</td>\n",
              "    </tr>\n",
              "    <tr>\n",
              "      <th>7</th>\n",
              "      <td>department</td>\n",
              "      <td>0.015835</td>\n",
              "    </tr>\n",
              "    <tr>\n",
              "      <th>8</th>\n",
              "      <td>salary</td>\n",
              "      <td>0.000974</td>\n",
              "    </tr>\n",
              "  </tbody>\n",
              "</table>\n",
              "</div>\n",
              "      <button class=\"colab-df-convert\" onclick=\"convertToInteractive('df-dd59c45c-e18b-45d4-9aa4-80cd29c7a7cc')\"\n",
              "              title=\"Convert this dataframe to an interactive table.\"\n",
              "              style=\"display:none;\">\n",
              "        \n",
              "  <svg xmlns=\"http://www.w3.org/2000/svg\" height=\"24px\"viewBox=\"0 0 24 24\"\n",
              "       width=\"24px\">\n",
              "    <path d=\"M0 0h24v24H0V0z\" fill=\"none\"/>\n",
              "    <path d=\"M18.56 5.44l.94 2.06.94-2.06 2.06-.94-2.06-.94-.94-2.06-.94 2.06-2.06.94zm-11 1L8.5 8.5l.94-2.06 2.06-.94-2.06-.94L8.5 2.5l-.94 2.06-2.06.94zm10 10l.94 2.06.94-2.06 2.06-.94-2.06-.94-.94-2.06-.94 2.06-2.06.94z\"/><path d=\"M17.41 7.96l-1.37-1.37c-.4-.4-.92-.59-1.43-.59-.52 0-1.04.2-1.43.59L10.3 9.45l-7.72 7.72c-.78.78-.78 2.05 0 2.83L4 21.41c.39.39.9.59 1.41.59.51 0 1.02-.2 1.41-.59l7.78-7.78 2.81-2.81c.8-.78.8-2.07 0-2.86zM5.41 20L4 18.59l7.72-7.72 1.47 1.35L5.41 20z\"/>\n",
              "  </svg>\n",
              "      </button>\n",
              "      \n",
              "  <style>\n",
              "    .colab-df-container {\n",
              "      display:flex;\n",
              "      flex-wrap:wrap;\n",
              "      gap: 12px;\n",
              "    }\n",
              "\n",
              "    .colab-df-convert {\n",
              "      background-color: #E8F0FE;\n",
              "      border: none;\n",
              "      border-radius: 50%;\n",
              "      cursor: pointer;\n",
              "      display: none;\n",
              "      fill: #1967D2;\n",
              "      height: 32px;\n",
              "      padding: 0 0 0 0;\n",
              "      width: 32px;\n",
              "    }\n",
              "\n",
              "    .colab-df-convert:hover {\n",
              "      background-color: #E2EBFA;\n",
              "      box-shadow: 0px 1px 2px rgba(60, 64, 67, 0.3), 0px 1px 3px 1px rgba(60, 64, 67, 0.15);\n",
              "      fill: #174EA6;\n",
              "    }\n",
              "\n",
              "    [theme=dark] .colab-df-convert {\n",
              "      background-color: #3B4455;\n",
              "      fill: #D2E3FC;\n",
              "    }\n",
              "\n",
              "    [theme=dark] .colab-df-convert:hover {\n",
              "      background-color: #434B5C;\n",
              "      box-shadow: 0px 1px 3px 1px rgba(0, 0, 0, 0.15);\n",
              "      filter: drop-shadow(0px 1px 2px rgba(0, 0, 0, 0.3));\n",
              "      fill: #FFFFFF;\n",
              "    }\n",
              "  </style>\n",
              "\n",
              "      <script>\n",
              "        const buttonEl =\n",
              "          document.querySelector('#df-dd59c45c-e18b-45d4-9aa4-80cd29c7a7cc button.colab-df-convert');\n",
              "        buttonEl.style.display =\n",
              "          google.colab.kernel.accessAllowed ? 'block' : 'none';\n",
              "\n",
              "        async function convertToInteractive(key) {\n",
              "          const element = document.querySelector('#df-dd59c45c-e18b-45d4-9aa4-80cd29c7a7cc');\n",
              "          const dataTable =\n",
              "            await google.colab.kernel.invokeFunction('convertToInteractive',\n",
              "                                                     [key], {});\n",
              "          if (!dataTable) return;\n",
              "\n",
              "          const docLinkHtml = 'Like what you see? Visit the ' +\n",
              "            '<a target=\"_blank\" href=https://colab.research.google.com/notebooks/data_table.ipynb>data table notebook</a>'\n",
              "            + ' to learn more about interactive tables.';\n",
              "          element.innerHTML = '';\n",
              "          dataTable['output_type'] = 'display_data';\n",
              "          await google.colab.output.renderOutput(dataTable, element);\n",
              "          const docLink = document.createElement('div');\n",
              "          docLink.innerHTML = docLinkHtml;\n",
              "          element.appendChild(docLink);\n",
              "        }\n",
              "      </script>\n",
              "    </div>\n",
              "  </div>\n",
              "  "
            ]
          },
          "metadata": {},
          "execution_count": 43
        }
      ],
      "source": [
        "dict={'Input':x.columns,'IG':dt.feature_importances_}\n",
        "df1=pd.DataFrame(dict)\n",
        "df1"
      ]
    },
    {
      "cell_type": "code",
      "execution_count": 44,
      "id": "rx7WJu0uELUV",
      "metadata": {
        "colab": {
          "base_uri": "https://localhost:8080/",
          "height": 331
        },
        "id": "rx7WJu0uELUV",
        "outputId": "a8fbf667-c2a9-4cc6-fd06-608e035205ed"
      },
      "outputs": [
        {
          "output_type": "execute_result",
          "data": {
            "text/plain": [
              "                   Input        IG\n",
              "0     satisfaction_level  0.438207\n",
              "1     time_spend_company  0.336042\n",
              "2        last_evaluation  0.103950\n",
              "3   average_montly_hours  0.067519\n",
              "4         number_project  0.035886\n",
              "5             department  0.015835\n",
              "6          Work_accident  0.001586\n",
              "7                 salary  0.000974\n",
              "8  promotion_last_5years  0.000000"
            ],
            "text/html": [
              "\n",
              "  <div id=\"df-8b5a4a0e-8ce3-46da-ab00-19d6427933db\">\n",
              "    <div class=\"colab-df-container\">\n",
              "      <div>\n",
              "<style scoped>\n",
              "    .dataframe tbody tr th:only-of-type {\n",
              "        vertical-align: middle;\n",
              "    }\n",
              "\n",
              "    .dataframe tbody tr th {\n",
              "        vertical-align: top;\n",
              "    }\n",
              "\n",
              "    .dataframe thead th {\n",
              "        text-align: right;\n",
              "    }\n",
              "</style>\n",
              "<table border=\"1\" class=\"dataframe\">\n",
              "  <thead>\n",
              "    <tr style=\"text-align: right;\">\n",
              "      <th></th>\n",
              "      <th>Input</th>\n",
              "      <th>IG</th>\n",
              "    </tr>\n",
              "  </thead>\n",
              "  <tbody>\n",
              "    <tr>\n",
              "      <th>0</th>\n",
              "      <td>satisfaction_level</td>\n",
              "      <td>0.438207</td>\n",
              "    </tr>\n",
              "    <tr>\n",
              "      <th>1</th>\n",
              "      <td>time_spend_company</td>\n",
              "      <td>0.336042</td>\n",
              "    </tr>\n",
              "    <tr>\n",
              "      <th>2</th>\n",
              "      <td>last_evaluation</td>\n",
              "      <td>0.103950</td>\n",
              "    </tr>\n",
              "    <tr>\n",
              "      <th>3</th>\n",
              "      <td>average_montly_hours</td>\n",
              "      <td>0.067519</td>\n",
              "    </tr>\n",
              "    <tr>\n",
              "      <th>4</th>\n",
              "      <td>number_project</td>\n",
              "      <td>0.035886</td>\n",
              "    </tr>\n",
              "    <tr>\n",
              "      <th>5</th>\n",
              "      <td>department</td>\n",
              "      <td>0.015835</td>\n",
              "    </tr>\n",
              "    <tr>\n",
              "      <th>6</th>\n",
              "      <td>Work_accident</td>\n",
              "      <td>0.001586</td>\n",
              "    </tr>\n",
              "    <tr>\n",
              "      <th>7</th>\n",
              "      <td>salary</td>\n",
              "      <td>0.000974</td>\n",
              "    </tr>\n",
              "    <tr>\n",
              "      <th>8</th>\n",
              "      <td>promotion_last_5years</td>\n",
              "      <td>0.000000</td>\n",
              "    </tr>\n",
              "  </tbody>\n",
              "</table>\n",
              "</div>\n",
              "      <button class=\"colab-df-convert\" onclick=\"convertToInteractive('df-8b5a4a0e-8ce3-46da-ab00-19d6427933db')\"\n",
              "              title=\"Convert this dataframe to an interactive table.\"\n",
              "              style=\"display:none;\">\n",
              "        \n",
              "  <svg xmlns=\"http://www.w3.org/2000/svg\" height=\"24px\"viewBox=\"0 0 24 24\"\n",
              "       width=\"24px\">\n",
              "    <path d=\"M0 0h24v24H0V0z\" fill=\"none\"/>\n",
              "    <path d=\"M18.56 5.44l.94 2.06.94-2.06 2.06-.94-2.06-.94-.94-2.06-.94 2.06-2.06.94zm-11 1L8.5 8.5l.94-2.06 2.06-.94-2.06-.94L8.5 2.5l-.94 2.06-2.06.94zm10 10l.94 2.06.94-2.06 2.06-.94-2.06-.94-.94-2.06-.94 2.06-2.06.94z\"/><path d=\"M17.41 7.96l-1.37-1.37c-.4-.4-.92-.59-1.43-.59-.52 0-1.04.2-1.43.59L10.3 9.45l-7.72 7.72c-.78.78-.78 2.05 0 2.83L4 21.41c.39.39.9.59 1.41.59.51 0 1.02-.2 1.41-.59l7.78-7.78 2.81-2.81c.8-.78.8-2.07 0-2.86zM5.41 20L4 18.59l7.72-7.72 1.47 1.35L5.41 20z\"/>\n",
              "  </svg>\n",
              "      </button>\n",
              "      \n",
              "  <style>\n",
              "    .colab-df-container {\n",
              "      display:flex;\n",
              "      flex-wrap:wrap;\n",
              "      gap: 12px;\n",
              "    }\n",
              "\n",
              "    .colab-df-convert {\n",
              "      background-color: #E8F0FE;\n",
              "      border: none;\n",
              "      border-radius: 50%;\n",
              "      cursor: pointer;\n",
              "      display: none;\n",
              "      fill: #1967D2;\n",
              "      height: 32px;\n",
              "      padding: 0 0 0 0;\n",
              "      width: 32px;\n",
              "    }\n",
              "\n",
              "    .colab-df-convert:hover {\n",
              "      background-color: #E2EBFA;\n",
              "      box-shadow: 0px 1px 2px rgba(60, 64, 67, 0.3), 0px 1px 3px 1px rgba(60, 64, 67, 0.15);\n",
              "      fill: #174EA6;\n",
              "    }\n",
              "\n",
              "    [theme=dark] .colab-df-convert {\n",
              "      background-color: #3B4455;\n",
              "      fill: #D2E3FC;\n",
              "    }\n",
              "\n",
              "    [theme=dark] .colab-df-convert:hover {\n",
              "      background-color: #434B5C;\n",
              "      box-shadow: 0px 1px 3px 1px rgba(0, 0, 0, 0.15);\n",
              "      filter: drop-shadow(0px 1px 2px rgba(0, 0, 0, 0.3));\n",
              "      fill: #FFFFFF;\n",
              "    }\n",
              "  </style>\n",
              "\n",
              "      <script>\n",
              "        const buttonEl =\n",
              "          document.querySelector('#df-8b5a4a0e-8ce3-46da-ab00-19d6427933db button.colab-df-convert');\n",
              "        buttonEl.style.display =\n",
              "          google.colab.kernel.accessAllowed ? 'block' : 'none';\n",
              "\n",
              "        async function convertToInteractive(key) {\n",
              "          const element = document.querySelector('#df-8b5a4a0e-8ce3-46da-ab00-19d6427933db');\n",
              "          const dataTable =\n",
              "            await google.colab.kernel.invokeFunction('convertToInteractive',\n",
              "                                                     [key], {});\n",
              "          if (!dataTable) return;\n",
              "\n",
              "          const docLinkHtml = 'Like what you see? Visit the ' +\n",
              "            '<a target=\"_blank\" href=https://colab.research.google.com/notebooks/data_table.ipynb>data table notebook</a>'\n",
              "            + ' to learn more about interactive tables.';\n",
              "          element.innerHTML = '';\n",
              "          dataTable['output_type'] = 'display_data';\n",
              "          await google.colab.output.renderOutput(dataTable, element);\n",
              "          const docLink = document.createElement('div');\n",
              "          docLink.innerHTML = docLinkHtml;\n",
              "          element.appendChild(docLink);\n",
              "        }\n",
              "      </script>\n",
              "    </div>\n",
              "  </div>\n",
              "  "
            ]
          },
          "metadata": {},
          "execution_count": 44
        }
      ],
      "source": [
        "#to arrange records in desc -> highest to lowest \n",
        "df9=df1.sort_values('IG',ascending=False,ignore_index=True)\n",
        "df9"
      ]
    },
    {
      "cell_type": "code",
      "source": [
        "#create a tree\n",
        "from sklearn import tree\n",
        "features=x.columns\n",
        "plt.figure(figsize=(20,20))\n",
        "_=tree.plot_tree(dt,feature_names=features,filled=True)"
      ],
      "metadata": {
        "colab": {
          "base_uri": "https://localhost:8080/",
          "height": 1000
        },
        "id": "FtzLUa9frtYD",
        "outputId": "f6103835-7b73-417f-c5f8-df2e4c353cf1"
      },
      "id": "FtzLUa9frtYD",
      "execution_count": 45,
      "outputs": [
        {
          "output_type": "display_data",
          "data": {
            "text/plain": [
              "<Figure size 1440x1440 with 1 Axes>"
            ],
            "image/png": "[encoded data removed]"
          },
          "metadata": {
            "needs_background": "light"
          }
        }
      ]
    },
    {
      "cell_type": "markdown",
      "source": [
        "# Decision Tree (max_depth,gini)"
      ],
      "metadata": {
        "id": "fLoc7O5LpKdF"
      },
      "id": "fLoc7O5LpKdF"
    },
    {
      "cell_type": "code",
      "execution_count": 46,
      "id": "ofKoXDVBEXnZ",
      "metadata": {
        "colab": {
          "base_uri": "https://localhost:8080/"
        },
        "id": "ofKoXDVBEXnZ",
        "outputId": "e9f3c70a-6184-413d-8d75-8a430ddba17b"
      },
      "outputs": [
        {
          "output_type": "stream",
          "name": "stdout",
          "text": [
            "              precision    recall  f1-score   support\n",
            "\n",
            "           0       0.93      0.91      0.92      2844\n",
            "           1       0.91      0.94      0.92      2844\n",
            "\n",
            "    accuracy                           0.92      5688\n",
            "   macro avg       0.92      0.92      0.92      5688\n",
            "weighted avg       0.92      0.92      0.92      5688\n",
            "\n",
            "[[2576  268]\n",
            " [ 184 2660]]\n"
          ]
        }
      ],
      "source": [
        "#apply pruning technique for DTC using gini\n",
        "#max_depth<=8\n",
        "'''\n",
        "for i in range(1,9):\n",
        "    dt=DecisionTreeClassifier(random_state=1,max_depth=i)\n",
        "    print(\"max_depth0:\",i)\n",
        "    #call the function\n",
        "    dt=create_model(dt)\n",
        "'''\n",
        "dt1=DecisionTreeClassifier(random_state=1,max_depth=3)\n",
        "# call function\n",
        "dt1=create_model(dt1)\n",
        "\n",
        "\n"
      ]
    },
    {
      "cell_type": "code",
      "source": [
        "#create a tree\n",
        "from sklearn import tree\n",
        "features=x.columns\n",
        "plt.figure(figsize=(20,20))\n",
        "_=tree.plot_tree(dt1,feature_names=features,filled=True)"
      ],
      "metadata": {
        "colab": {
          "base_uri": "https://localhost:8080/",
          "height": 1000
        },
        "id": "L4k30GL5r09W",
        "outputId": "6caf5f29-02b0-4c77-f3f6-a69729bea4b7"
      },
      "id": "L4k30GL5r09W",
      "execution_count": 47,
      "outputs": [
        {
          "output_type": "display_data",
          "data": {
            "text/plain": [
              "<Figure size 1440x1440 with 1 Axes>"
            ],
            "image/png": "[encoded data removed]"
          },
          "metadata": {
            "needs_background": "light"
          }
        }
      ]
    },
    {
      "cell_type": "markdown",
      "source": [
        "# Decision Tree (min_samples_leaf,gini)"
      ],
      "metadata": {
        "id": "-F4fZu7NpWK4"
      },
      "id": "-F4fZu7NpWK4"
    },
    {
      "cell_type": "code",
      "execution_count": 48,
      "id": "ghmINcEnFEn2",
      "metadata": {
        "colab": {
          "base_uri": "https://localhost:8080/"
        },
        "id": "ghmINcEnFEn2",
        "outputId": "35ffc4da-a9f9-412d-b551-36be599e5ee3"
      },
      "outputs": [
        {
          "output_type": "stream",
          "name": "stdout",
          "text": [
            "              precision    recall  f1-score   support\n",
            "\n",
            "           0       0.93      0.98      0.95      2844\n",
            "           1       0.97      0.93      0.95      2844\n",
            "\n",
            "    accuracy                           0.95      5688\n",
            "   macro avg       0.95      0.95      0.95      5688\n",
            "weighted avg       0.95      0.95      0.95      5688\n",
            "\n",
            "[[2776   68]\n",
            " [ 205 2639]]\n"
          ]
        }
      ],
      "source": [
        "#1. min_samples\n",
        "#create object of DecisionTreeClassifier class and pass the arguments\n",
        "'''\n",
        "for i in range(45,101):\n",
        "    dt2=DecisionTreeClassifier(random_state=1,min_samples_leaf=i)\n",
        "    print(\"min samples leaf:\",i)\n",
        "    #call the function \n",
        "    dt2=create_model(dt2)\n",
        "'''\n",
        "dt2=DecisionTreeClassifier(random_state=1,min_samples_leaf=45)\n",
        "#call the function \n",
        "dt2=create_model(dt2)\n",
        "\n"
      ]
    },
    {
      "cell_type": "code",
      "source": [
        "#create a tree\n",
        "from sklearn import tree\n",
        "features=x.columns\n",
        "plt.figure(figsize=(20,20))\n",
        "_=tree.plot_tree(dt2,feature_names=features,filled=True)"
      ],
      "metadata": {
        "colab": {
          "base_uri": "https://localhost:8080/",
          "height": 1000
        },
        "id": "ie9z5BZjsEFk",
        "outputId": "81c2bfd3-33da-44cd-b3b6-70eadeeb9652"
      },
      "id": "ie9z5BZjsEFk",
      "execution_count": 49,
      "outputs": [
        {
          "output_type": "display_data",
          "data": {
            "text/plain": [
              "<Figure size 1440x1440 with 1 Axes>"
            ],
            "image/png": "[encoded data removed]"
          },
          "metadata": {
            "needs_background": "light"
          }
        }
      ]
    },
    {
      "cell_type": "code",
      "execution_count": 50,
      "id": "5Gi7HWmzHIni",
      "metadata": {
        "id": "5Gi7HWmzHIni"
      },
      "outputs": [],
      "source": [
        "\n",
        "#conclusion : \n",
        "#Decision Tree Classifier with GINI Index :   1:0.92 anf 0 - 0.98\n",
        "#applied Pruning Tech : 1. max_depth with GINI INDEX then got \n",
        "#Accurancy  1: 0.94   and 0 : 0.91  and max_depth=3\n",
        "#but applied pruning tech. 2. min_samples_leaf with GINI INDEX then got \n",
        "#Accurancy  1: 0.93   and 0 : 0.98  and min_samples_leaf=45"
      ]
    },
    {
      "cell_type": "markdown",
      "source": [
        "# Decision Tree(entropy)"
      ],
      "metadata": {
        "id": "hZmmdTlnpxwF"
      },
      "id": "hZmmdTlnpxwF"
    },
    {
      "cell_type": "code",
      "execution_count": 51,
      "id": "9Frp-T9eHBvv",
      "metadata": {
        "colab": {
          "base_uri": "https://localhost:8080/"
        },
        "id": "9Frp-T9eHBvv",
        "outputId": "acc1fd0d-f107-4149-f0ec-ed17f2fec075"
      },
      "outputs": [
        {
          "output_type": "stream",
          "name": "stdout",
          "text": [
            "              precision    recall  f1-score   support\n",
            "\n",
            "           0       0.93      0.98      0.95      2844\n",
            "           1       0.98      0.92      0.95      2844\n",
            "\n",
            "    accuracy                           0.95      5688\n",
            "   macro avg       0.95      0.95      0.95      5688\n",
            "weighted avg       0.95      0.95      0.95      5688\n",
            "\n",
            "[[2796   48]\n",
            " [ 225 2619]]\n"
          ]
        }
      ],
      "source": [
        "#apply decision tree aglorithm for entropy index\n",
        "#use entropy method:-p(yes)* log(p(yes))-Q(no)*log(Q(no))\n",
        "#first create object for DecisionTreeClassifier class and \n",
        "#passing the parameter criterion =\"entropy\" by deafalut criterion=\"gini index\" if didnpt give\n",
        "dt=DecisionTreeClassifier(random_state=1,criterion=\"entropy\")\n",
        "#not apply pruning technique\n",
        "\n",
        "#call the function \n",
        "dt=create_model(dt)"
      ]
    },
    {
      "cell_type": "markdown",
      "source": [
        "# Decision Tree (max_depth,entropy)"
      ],
      "metadata": {
        "id": "MLDP8I63qM5H"
      },
      "id": "MLDP8I63qM5H"
    },
    {
      "cell_type": "code",
      "execution_count": 52,
      "id": "uRag0yDhIpwz",
      "metadata": {
        "colab": {
          "base_uri": "https://localhost:8080/"
        },
        "id": "uRag0yDhIpwz",
        "outputId": "4e6b01ac-a783-4b6a-b74c-a2eb97361934"
      },
      "outputs": [
        {
          "output_type": "stream",
          "name": "stdout",
          "text": [
            "              precision    recall  f1-score   support\n",
            "\n",
            "           0       0.95      0.79      0.86      2844\n",
            "           1       0.82      0.96      0.88      2844\n",
            "\n",
            "    accuracy                           0.87      5688\n",
            "   macro avg       0.88      0.87      0.87      5688\n",
            "weighted avg       0.88      0.87      0.87      5688\n",
            "\n",
            "[[2243  601]\n",
            " [ 119 2725]]\n"
          ]
        }
      ],
      "source": [
        "#apply pruning technique for DTC using entropy\n",
        "#max_depth<=8\n",
        "'''\n",
        "for i in range(1,9):\n",
        "    dt=DecisionTreeClassifier(random_state=1,criterion=\"entropy\",max_depth=i)\n",
        "    print(\"max_depth0:\",i)\n",
        "    #call the function\n",
        "    dt=create_model(dt)\n",
        "'''\n",
        "\n",
        "dt=DecisionTreeClassifier(random_state=1,criterion=\"entropy\",max_depth=2)\n",
        "#call the function\n",
        "dt=create_model(dt)"
      ]
    },
    {
      "cell_type": "markdown",
      "source": [
        "# Decision Tree (min_samples_leaf,entropy)"
      ],
      "metadata": {
        "id": "kFfLYKr7qTpW"
      },
      "id": "kFfLYKr7qTpW"
    },
    {
      "cell_type": "code",
      "execution_count": 53,
      "id": "7A7B0CkbI6Bs",
      "metadata": {
        "colab": {
          "base_uri": "https://localhost:8080/"
        },
        "id": "7A7B0CkbI6Bs",
        "outputId": "9f885e3d-9497-4608-de80-6400603993a0"
      },
      "outputs": [
        {
          "output_type": "stream",
          "name": "stdout",
          "text": [
            "              precision    recall  f1-score   support\n",
            "\n",
            "           0       0.94      0.97      0.95      2844\n",
            "           1       0.97      0.94      0.95      2844\n",
            "\n",
            "    accuracy                           0.95      5688\n",
            "   macro avg       0.95      0.95      0.95      5688\n",
            "weighted avg       0.95      0.95      0.95      5688\n",
            "\n",
            "[[2752   92]\n",
            " [ 184 2660]]\n"
          ]
        }
      ],
      "source": [
        "#apply 2nd pruning technique min_samples_leaf\n",
        "'''\n",
        "for i in range(45,101):\n",
        "    dt=DecisionTreeClassifier(random_state=1,criterion=\"entropy\",min_samples_leaf=i)\n",
        "    print(\"min_samples_leaf:\",i)\n",
        "    #call the function\n",
        "    dt=create_model(dt)\n",
        "'''\n",
        "dt=DecisionTreeClassifier(random_state=1,criterion=\"entropy\",min_samples_leaf=45)\n",
        "#call the function\n",
        "dt=create_model(dt)\n"
      ]
    },
    {
      "cell_type": "code",
      "execution_count": 54,
      "id": "GVwvBwcmJmls",
      "metadata": {
        "id": "GVwvBwcmJmls"
      },
      "outputs": [],
      "source": [
        "#conclusion : \n",
        "#Decision Tree Classifier with entropy Index :   1-0.92 and 0 - 0.98\n",
        "#applied Pruning Tech : 1. max_depth with entropy then got \n",
        "#Accurancy  1: 0.96   and 0 : 0.79 and max_depth=2\n",
        "#but applied pruning tech. 2. min_samples_leaf with entropy then got \n",
        "#Accurancy  1: 0.93   and 0 : 0.97  and min_samples_leaf=45\n"
      ]
    },
    {
      "cell_type": "code",
      "execution_count": 55,
      "id": "87DMcZI84CzU",
      "metadata": {
        "colab": {
          "base_uri": "https://localhost:8080/"
        },
        "id": "87DMcZI84CzU",
        "outputId": "5df0791a-bb65-49b6-ed78-282ed68a20e4"
      },
      "outputs": [
        {
          "output_type": "execute_result",
          "data": {
            "text/plain": [
              "(11573, 9)"
            ]
          },
          "metadata": {},
          "execution_count": 55
        }
      ],
      "source": [
        "#checking features\n",
        "x.shape"
      ]
    },
    {
      "cell_type": "markdown",
      "source": [
        "# Rabdom Forest (gini and enotropy)"
      ],
      "metadata": {
        "id": "tpF91hLaqfCs"
      },
      "id": "tpF91hLaqfCs"
    },
    {
      "cell_type": "code",
      "execution_count": 56,
      "id": "evIDk7cR3xaQ",
      "metadata": {
        "colab": {
          "base_uri": "https://localhost:8080/",
          "height": 255
        },
        "id": "evIDk7cR3xaQ",
        "outputId": "5d807296-af39-402e-e0e3-309541d96318"
      },
      "outputs": [
        {
          "output_type": "stream",
          "name": "stdout",
          "text": [
            "              precision    recall  f1-score   support\n",
            "\n",
            "           0       0.92      0.99      0.95      2844\n",
            "           1       0.99      0.91      0.95      2844\n",
            "\n",
            "    accuracy                           0.95      5688\n",
            "   macro avg       0.96      0.95      0.95      5688\n",
            "weighted avg       0.96      0.95      0.95      5688\n",
            "\n",
            "[[2824   20]\n",
            " [ 251 2593]]\n"
          ]
        },
        {
          "output_type": "execute_result",
          "data": {
            "text/plain": [
              "'\\n\\n\\nfor i in range(6,0,-1):\\n    #create object for RandomForestClassifier class\\n    rfc=RandomForestClassifier(n_estimators=10,max_features=i,random_state=1)\\n    print(\"no of features:\",i)\\n    #call the function\\n    rfc=create_model(rfc)\\n\\n'"
            ],
            "application/vnd.google.colaboratory.intrinsic+json": {
              "type": "string"
            }
          },
          "metadata": {},
          "execution_count": 56
        }
      ],
      "source": [
        "#ENSEMBLING TECHNIQUE: RANDOM FOREST TREE\n",
        "#call random forest tree from package use gini index\n",
        "\n",
        "from sklearn.ensemble import RandomForestClassifier\n",
        "\n",
        "#create a object of RandomForestClassifier class()\n",
        "rfc=RandomForestClassifier(n_estimators=10,max_features=1,random_state=1)\n",
        "#estimators means how many decisiontreeclassifiers min=10 ,max=100\n",
        "#max_features means take how many inputs\n",
        "#bydefalut it took GINI INDEX\n",
        "\n",
        "\n",
        "#call the function    \n",
        "rfc=create_model(rfc)\n",
        "'''\n",
        "\n",
        "\n",
        "for i in range(6,0,-1):\n",
        "    #create object for RandomForestClassifier class\n",
        "    rfc=RandomForestClassifier(n_estimators=10,max_features=i,random_state=1)\n",
        "    print(\"no of features:\",i)\n",
        "    #call the function\n",
        "    rfc=create_model(rfc)\n",
        "\n",
        "'''\n"
      ]
    },
    {
      "cell_type": "code",
      "execution_count": 57,
      "id": "ZOvHpapZ4IU3",
      "metadata": {
        "colab": {
          "base_uri": "https://localhost:8080/"
        },
        "id": "ZOvHpapZ4IU3",
        "outputId": "5c1288a8-cc13-4e97-ea4e-b04fdc6444e4"
      },
      "outputs": [
        {
          "output_type": "stream",
          "name": "stdout",
          "text": [
            "              precision    recall  f1-score   support\n",
            "\n",
            "           0       0.93      1.00      0.96      2844\n",
            "           1       1.00      0.92      0.96      2844\n",
            "\n",
            "    accuracy                           0.96      5688\n",
            "   macro avg       0.96      0.96      0.96      5688\n",
            "weighted avg       0.96      0.96      0.96      5688\n",
            "\n",
            "[[2834   10]\n",
            " [ 224 2620]]\n"
          ]
        }
      ],
      "source": [
        "# use entropy\n",
        "'''\n",
        "for i in range(6,0,-1):\n",
        "    #create object for RandomForestClassifier class\n",
        "    rfc=RandomForestClassifier(n_estimators=10,max_features=i,random_state=1,criterion=\"entropy\")\n",
        "    print(\"no of features:\",i)\n",
        "    #call the function\n",
        "    rfc=create_model(rfc)\n",
        "'''\n",
        "rfc=RandomForestClassifier(n_estimators=10,max_features=2,random_state=1,criterion=\"entropy\")\n",
        "#call the function\n",
        "rfc=create_model(rfc)\n",
        "\n",
        "\n"
      ]
    },
    {
      "cell_type": "code",
      "execution_count": 58,
      "id": "JyfevlNH5Ryz",
      "metadata": {
        "id": "JyfevlNH5Ryz"
      },
      "outputs": [],
      "source": [
        "#random forest  with gini Index :   1-0.91 and 0 - 0.99 fe=1\n",
        "# random forest with entropy Index :  1-0.91 and 0 - 0.99 fe=1\n"
      ]
    },
    {
      "cell_type": "markdown",
      "source": [
        "# ADA boosting - Adapter boosting"
      ],
      "metadata": {
        "id": "_g0ID8pOqyzC"
      },
      "id": "_g0ID8pOqyzC"
    },
    {
      "cell_type": "code",
      "execution_count": 59,
      "id": "3xsaOiri6N5S",
      "metadata": {
        "id": "3xsaOiri6N5S"
      },
      "outputs": [],
      "source": [
        "#USE BOOSTING TECHNIQUE:\n",
        "#apply ADA bost on given dataset\n",
        "from sklearn.ensemble import AdaBoostClassifier"
      ]
    },
    {
      "cell_type": "code",
      "execution_count": 60,
      "id": "CY3xO7jq6UHw",
      "metadata": {
        "colab": {
          "base_uri": "https://localhost:8080/",
          "height": 255
        },
        "id": "CY3xO7jq6UHw",
        "outputId": "edb864a6-9512-460c-a76e-47679118a37a"
      },
      "outputs": [
        {
          "output_type": "stream",
          "name": "stdout",
          "text": [
            "              precision    recall  f1-score   support\n",
            "\n",
            "           0       0.94      0.87      0.90      2844\n",
            "           1       0.88      0.95      0.91      2844\n",
            "\n",
            "    accuracy                           0.91      5688\n",
            "   macro avg       0.91      0.91      0.91      5688\n",
            "weighted avg       0.91      0.91      0.91      5688\n",
            "\n",
            "[[2472  372]\n",
            " [ 152 2692]]\n"
          ]
        },
        {
          "output_type": "execute_result",
          "data": {
            "text/plain": [
              "'\\n\\nfor i in range(1,7):\\n    #create object for RandomForestClassifier class\\n    ada=AdaBoostClassifier(n_estimators=i,random_state=1)\\n    print(\"no of descision stump:\",i)\\n    #call the function\\n    ada=create_model(ada)\\n\\n'"
            ],
            "application/vnd.google.colaboratory.intrinsic+json": {
              "type": "string"
            }
          },
          "metadata": {},
          "execution_count": 60
        }
      ],
      "source": [
        "#create the object AdaBoostClassifier class#by deafalut gini index\n",
        "\n",
        "ada=AdaBoostClassifier(n_estimators=5,random_state=1)\n",
        "#call the function\n",
        "ada=create_model(ada)\n",
        "#n_estimators means no. of decision stump can be <=100_estimators can be <=100\n",
        "\n",
        "'''\n",
        "\n",
        "for i in range(1,7):\n",
        "    #create object for RandomForestClassifier class\n",
        "    ada=AdaBoostClassifier(n_estimators=i,random_state=1)\n",
        "    print(\"no of descision stump:\",i)\n",
        "    #call the function\n",
        "    ada=create_model(ada)\n",
        "\n",
        "'''"
      ]
    },
    {
      "cell_type": "code",
      "execution_count": 61,
      "id": "B9YMkKhS7-Be",
      "metadata": {
        "id": "B9YMkKhS7-Be"
      },
      "outputs": [],
      "source": [
        "#conclusion :#adaboosting  recall score :   1-0.95 and 0 - 0.87 on decision stump:5"
      ]
    },
    {
      "cell_type": "markdown",
      "source": [
        "# Gradient Boosting"
      ],
      "metadata": {
        "id": "3iGgXDotq3it"
      },
      "id": "3iGgXDotq3it"
    },
    {
      "cell_type": "code",
      "execution_count": 62,
      "id": "hsrgQMXG6ZGv",
      "metadata": {
        "colab": {
          "base_uri": "https://localhost:8080/",
          "height": 255
        },
        "id": "hsrgQMXG6ZGv",
        "outputId": "4c2d1c46-10ef-43b5-a11b-2fe4acca157b"
      },
      "outputs": [
        {
          "output_type": "stream",
          "name": "stdout",
          "text": [
            "              precision    recall  f1-score   support\n",
            "\n",
            "           0       0.93      0.92      0.93      2844\n",
            "           1       0.92      0.94      0.93      2844\n",
            "\n",
            "    accuracy                           0.93      5688\n",
            "   macro avg       0.93      0.93      0.93      5688\n",
            "weighted avg       0.93      0.93      0.93      5688\n",
            "\n",
            "[[2611  233]\n",
            " [ 182 2662]]\n"
          ]
        },
        {
          "output_type": "execute_result",
          "data": {
            "text/plain": [
              "'\\nfor i in range(10,101):\\n    #create object for RandomForestClassifier class\\n    gbc=GradientBoostingClassifier(n_estimators=i,random_state=1)\\n    print(\"no of descision stump:\",i)\\n    #call the function\\n    gbc=create_model(gbc)\\n'"
            ],
            "application/vnd.google.colaboratory.intrinsic+json": {
              "type": "string"
            }
          },
          "metadata": {},
          "execution_count": 62
        }
      ],
      "source": [
        "#Gradient Boosting :\n",
        "#apply gradient Boost technuique on bank dataset\n",
        "from sklearn.ensemble import GradientBoostingClassifier\n",
        "#create the object GradientBoostClassifier class#by deafalut gini index\n",
        "\n",
        "\n",
        "gbc=GradientBoostingClassifier(n_estimators=10,random_state=1)\n",
        "#n_estimators means no. of iteration of decision stump can be <=100_estimators can be <=100\n",
        "#call the function\n",
        "gbc=create_model(gbc)\n",
        "'''\n",
        "for i in range(10,101):\n",
        "    #create object for RandomForestClassifier class\n",
        "    gbc=GradientBoostingClassifier(n_estimators=i,random_state=1)\n",
        "    print(\"no of descision stump:\",i)\n",
        "    #call the function\n",
        "    gbc=create_model(gbc)\n",
        "'''"
      ]
    },
    {
      "cell_type": "code",
      "execution_count": 63,
      "id": "22XTEODb7HG5",
      "metadata": {
        "id": "22XTEODb7HG5"
      },
      "outputs": [],
      "source": [
        "#conclusion :#gradientboosting  recall score :   1-0.94 and 0 - 0.92 on decision stump:10"
      ]
    },
    {
      "cell_type": "markdown",
      "source": [
        "# Extreme Gradient Boosting (XGB)"
      ],
      "metadata": {
        "id": "zNs8IqRxq_dr"
      },
      "id": "zNs8IqRxq_dr"
    },
    {
      "cell_type": "code",
      "execution_count": 64,
      "id": "4fwXiSUT8YKm",
      "metadata": {
        "id": "4fwXiSUT8YKm"
      },
      "outputs": [],
      "source": [
        "#Extreme Gradient Boosting(XGB)\n",
        "#!pip install xgboost\n",
        "#call \n",
        "from xgboost import XGBClassifier"
      ]
    },
    {
      "cell_type": "code",
      "execution_count": 65,
      "id": "Rssjjycc8e_m",
      "metadata": {
        "colab": {
          "base_uri": "https://localhost:8080/",
          "height": 255
        },
        "id": "Rssjjycc8e_m",
        "outputId": "af7cb1e3-d695-4471-8272-b89511b05b52"
      },
      "outputs": [
        {
          "output_type": "stream",
          "name": "stdout",
          "text": [
            "              precision    recall  f1-score   support\n",
            "\n",
            "           0       0.93      0.96      0.94      2844\n",
            "           1       0.96      0.92      0.94      2844\n",
            "\n",
            "    accuracy                           0.94      5688\n",
            "   macro avg       0.94      0.94      0.94      5688\n",
            "weighted avg       0.94      0.94      0.94      5688\n",
            "\n",
            "[[2738  106]\n",
            " [ 217 2627]]\n"
          ]
        },
        {
          "output_type": "execute_result",
          "data": {
            "text/plain": [
              "'\\nfor i in range(10,101):\\n    #create object for RandomForestClassifier class\\n    xgc=XGBClassifier(n_estimators=i,reg_alpha=1,random_state=1)\\n    print(\"no of descision stump:\",i)\\n    #call the function\\n    xgc=create_model(xgc)\\n'"
            ],
            "application/vnd.google.colaboratory.intrinsic+json": {
              "type": "string"
            }
          },
          "metadata": {},
          "execution_count": 65
        }
      ],
      "source": [
        "#create object for XGBClassifier class\n",
        "\n",
        "xgc=XGBClassifier(n_estimators=10,reg_alpha=10,random_state=1)\n",
        "#automatic overftting : reg means regualrization  and alpha or lambda:\n",
        "#hyperpermater\n",
        "#n_estimators means no. of iteration of decision stump can be <=100_estimators can be <=100\n",
        "#call the function\n",
        "xgc=create_model(xgc)\n",
        "\n",
        "'''\n",
        "for i in range(10,101):\n",
        "    #create object for RandomForestClassifier class\n",
        "    xgc=XGBClassifier(n_estimators=i,reg_alpha=1,random_state=1)\n",
        "    print(\"no of descision stump:\",i)\n",
        "    #call the function\n",
        "    xgc=create_model(xgc)\n",
        "'''\n"
      ]
    },
    {
      "cell_type": "code",
      "execution_count": 66,
      "id": "9n5oYtC_8m9v",
      "metadata": {
        "id": "9n5oYtC_8m9v"
      },
      "outputs": [],
      "source": [
        "#conclusion :# extreme gradientboosting  recall score :   1-0.93 and 0 - 0.97 on decision stump:10"
      ]
    },
    {
      "cell_type": "markdown",
      "source": [
        "# Support Vector Machine (SVM)"
      ],
      "metadata": {
        "id": "offah6RCrFxL"
      },
      "id": "offah6RCrFxL"
    },
    {
      "cell_type": "code",
      "execution_count": 67,
      "id": "Fs3MhAsp9Pcp",
      "metadata": {
        "id": "Fs3MhAsp9Pcp"
      },
      "outputs": [],
      "source": [
        "#Apply Support Vector Machine (SVM)\n",
        "#1. Linear Separable data means Linear Kernal\n",
        "#call inbuilt class \n",
        "from sklearn.svm import LinearSVC\n",
        "#LinearSVC means Linear support vector classifier"
      ]
    },
    {
      "cell_type": "code",
      "execution_count": 68,
      "id": "r9pe1GeM99_6",
      "metadata": {
        "id": "r9pe1GeM99_6"
      },
      "outputs": [],
      "source": [
        "#create the object of LinearSVC class\n",
        "svc=LinearSVC(random_state=1) #bydefault hard margin , suppose no\n",
        "#outlier in my dataset means suppose no overfit \n",
        "#svc user defined object"
      ]
    },
    {
      "cell_type": "code",
      "execution_count": 69,
      "id": "-QZJEbVN-Ank",
      "metadata": {
        "colab": {
          "base_uri": "https://localhost:8080/"
        },
        "id": "-QZJEbVN-Ank",
        "outputId": "3aa2d5a5-3d9d-410a-d0d4-1df62b459e0a"
      },
      "outputs": [
        {
          "output_type": "stream",
          "name": "stdout",
          "text": [
            "              precision    recall  f1-score   support\n",
            "\n",
            "           0       0.78      0.77      0.77      2844\n",
            "           1       0.77      0.78      0.78      2844\n",
            "\n",
            "    accuracy                           0.78      5688\n",
            "   macro avg       0.78      0.78      0.78      5688\n",
            "weighted avg       0.78      0.78      0.78      5688\n",
            "\n",
            "[[2193  651]\n",
            " [ 627 2217]]\n"
          ]
        }
      ],
      "source": [
        "#call function \n",
        "svc=create_model(svc)"
      ]
    },
    {
      "cell_type": "code",
      "execution_count": 70,
      "id": "RlVBbkH7-C1F",
      "metadata": {
        "id": "RlVBbkH7-C1F"
      },
      "outputs": [],
      "source": [
        "#create object of LinearSVC class and add some external error \n",
        "svc1=LinearSVC(random_state=1,C=0.9) #soft margin\n",
        "\n",
        "#here C is parameter which is used to add some error during training time \n",
        "#set range of error 0.001 to 1 means C<=1"
      ]
    },
    {
      "cell_type": "code",
      "execution_count": 71,
      "id": "QHRedKkx-PkY",
      "metadata": {
        "colab": {
          "base_uri": "https://localhost:8080/"
        },
        "id": "QHRedKkx-PkY",
        "outputId": "8e143387-8000-445b-8ab2-ba172b2dc08e"
      },
      "outputs": [
        {
          "output_type": "stream",
          "name": "stdout",
          "text": [
            "              precision    recall  f1-score   support\n",
            "\n",
            "           0       0.78      0.77      0.77      2844\n",
            "           1       0.77      0.78      0.78      2844\n",
            "\n",
            "    accuracy                           0.78      5688\n",
            "   macro avg       0.78      0.78      0.78      5688\n",
            "weighted avg       0.78      0.78      0.78      5688\n",
            "\n",
            "[[2193  651]\n",
            " [ 627 2217]]\n"
          ]
        }
      ],
      "source": [
        "#call function\n",
        "svc1=create_model(svc1)"
      ]
    },
    {
      "cell_type": "code",
      "execution_count": 72,
      "id": "KDt9f9V3-TJd",
      "metadata": {
        "id": "KDt9f9V3-TJd"
      },
      "outputs": [],
      "source": [
        "#data is not linear cause even after adding external errors nothing happened"
      ]
    },
    {
      "cell_type": "code",
      "execution_count": 73,
      "id": "60lOnSiU-csu",
      "metadata": {
        "id": "60lOnSiU-csu"
      },
      "outputs": [],
      "source": [
        "#polynomial kernel function\n",
        "#use ibuilt class SVC(support vector classifier)\n",
        "from sklearn.svm import SVC\n",
        "#SVC is used for polynomial and radial basis kernel function: both are used for non-linear data"
      ]
    },
    {
      "cell_type": "code",
      "execution_count": 74,
      "id": "BrhvRhVB-7OM",
      "metadata": {
        "id": "BrhvRhVB-7OM"
      },
      "outputs": [],
      "source": [
        "#create object for  SVC class and passing the poly in kernel parameter\n",
        "svc1= SVC(random_state=1,kernel=\"poly\")"
      ]
    },
    {
      "cell_type": "code",
      "execution_count": 75,
      "id": "01VgQOxx-99F",
      "metadata": {
        "colab": {
          "base_uri": "https://localhost:8080/"
        },
        "id": "01VgQOxx-99F",
        "outputId": "ffb24775-1e1d-4d00-fca5-03bbe45c254f"
      },
      "outputs": [
        {
          "output_type": "stream",
          "name": "stdout",
          "text": [
            "              precision    recall  f1-score   support\n",
            "\n",
            "           0       0.93      0.95      0.94      2844\n",
            "           1       0.95      0.93      0.94      2844\n",
            "\n",
            "    accuracy                           0.94      5688\n",
            "   macro avg       0.94      0.94      0.94      5688\n",
            "weighted avg       0.94      0.94      0.94      5688\n",
            "\n",
            "[[2714  130]\n",
            " [ 203 2641]]\n"
          ]
        }
      ],
      "source": [
        "#call function \n",
        "svc1=create_model(svc1)\n"
      ]
    },
    {
      "cell_type": "code",
      "execution_count": 76,
      "id": "9EUGtWUu_A8j",
      "metadata": {
        "colab": {
          "base_uri": "https://localhost:8080/"
        },
        "id": "9EUGtWUu_A8j",
        "outputId": "572680ff-a1c8-4306-ff60-b6c4a173440a"
      },
      "outputs": [
        {
          "output_type": "stream",
          "name": "stdout",
          "text": [
            "              precision    recall  f1-score   support\n",
            "\n",
            "           0       0.93      0.96      0.94      2844\n",
            "           1       0.96      0.93      0.94      2844\n",
            "\n",
            "    accuracy                           0.94      5688\n",
            "   macro avg       0.94      0.94      0.94      5688\n",
            "weighted avg       0.94      0.94      0.94      5688\n",
            "\n",
            "[[2732  112]\n",
            " [ 209 2635]]\n"
          ]
        }
      ],
      "source": [
        "#radial kernel function\n",
        "#create object for  SVC class and passing the radial basis in kernel parameter\n",
        "svc2= SVC(random_state=1,kernel=\"rbf\")\n",
        "#call function \n",
        "svc2=create_model(svc2)"
      ]
    },
    {
      "cell_type": "markdown",
      "source": [
        "# KNN"
      ],
      "metadata": {
        "id": "_N6cs854rQbj"
      },
      "id": "_N6cs854rQbj"
    },
    {
      "cell_type": "code",
      "execution_count": 77,
      "id": "ImG8MHkV__NE",
      "metadata": {
        "colab": {
          "base_uri": "https://localhost:8080/",
          "height": 331
        },
        "id": "ImG8MHkV__NE",
        "outputId": "dc5041d2-c962-4dee-8368-8374dec0ec73"
      },
      "outputs": [
        {
          "output_type": "execute_result",
          "data": {
            "text/plain": [
              "                   Input        IG\n",
              "0     satisfaction_level  0.438207\n",
              "1     time_spend_company  0.336042\n",
              "2        last_evaluation  0.103950\n",
              "3   average_montly_hours  0.067519\n",
              "4         number_project  0.035886\n",
              "5             department  0.015835\n",
              "6          Work_accident  0.001586\n",
              "7                 salary  0.000974\n",
              "8  promotion_last_5years  0.000000"
            ],
            "text/html": [
              "\n",
              "  <div id=\"df-2e92c11b-4960-41b6-b236-a92c90c3e267\">\n",
              "    <div class=\"colab-df-container\">\n",
              "      <div>\n",
              "<style scoped>\n",
              "    .dataframe tbody tr th:only-of-type {\n",
              "        vertical-align: middle;\n",
              "    }\n",
              "\n",
              "    .dataframe tbody tr th {\n",
              "        vertical-align: top;\n",
              "    }\n",
              "\n",
              "    .dataframe thead th {\n",
              "        text-align: right;\n",
              "    }\n",
              "</style>\n",
              "<table border=\"1\" class=\"dataframe\">\n",
              "  <thead>\n",
              "    <tr style=\"text-align: right;\">\n",
              "      <th></th>\n",
              "      <th>Input</th>\n",
              "      <th>IG</th>\n",
              "    </tr>\n",
              "  </thead>\n",
              "  <tbody>\n",
              "    <tr>\n",
              "      <th>0</th>\n",
              "      <td>satisfaction_level</td>\n",
              "      <td>0.438207</td>\n",
              "    </tr>\n",
              "    <tr>\n",
              "      <th>1</th>\n",
              "      <td>time_spend_company</td>\n",
              "      <td>0.336042</td>\n",
              "    </tr>\n",
              "    <tr>\n",
              "      <th>2</th>\n",
              "      <td>last_evaluation</td>\n",
              "      <td>0.103950</td>\n",
              "    </tr>\n",
              "    <tr>\n",
              "      <th>3</th>\n",
              "      <td>average_montly_hours</td>\n",
              "      <td>0.067519</td>\n",
              "    </tr>\n",
              "    <tr>\n",
              "      <th>4</th>\n",
              "      <td>number_project</td>\n",
              "      <td>0.035886</td>\n",
              "    </tr>\n",
              "    <tr>\n",
              "      <th>5</th>\n",
              "      <td>department</td>\n",
              "      <td>0.015835</td>\n",
              "    </tr>\n",
              "    <tr>\n",
              "      <th>6</th>\n",
              "      <td>Work_accident</td>\n",
              "      <td>0.001586</td>\n",
              "    </tr>\n",
              "    <tr>\n",
              "      <th>7</th>\n",
              "      <td>salary</td>\n",
              "      <td>0.000974</td>\n",
              "    </tr>\n",
              "    <tr>\n",
              "      <th>8</th>\n",
              "      <td>promotion_last_5years</td>\n",
              "      <td>0.000000</td>\n",
              "    </tr>\n",
              "  </tbody>\n",
              "</table>\n",
              "</div>\n",
              "      <button class=\"colab-df-convert\" onclick=\"convertToInteractive('df-2e92c11b-4960-41b6-b236-a92c90c3e267')\"\n",
              "              title=\"Convert this dataframe to an interactive table.\"\n",
              "              style=\"display:none;\">\n",
              "        \n",
              "  <svg xmlns=\"http://www.w3.org/2000/svg\" height=\"24px\"viewBox=\"0 0 24 24\"\n",
              "       width=\"24px\">\n",
              "    <path d=\"M0 0h24v24H0V0z\" fill=\"none\"/>\n",
              "    <path d=\"M18.56 5.44l.94 2.06.94-2.06 2.06-.94-2.06-.94-.94-2.06-.94 2.06-2.06.94zm-11 1L8.5 8.5l.94-2.06 2.06-.94-2.06-.94L8.5 2.5l-.94 2.06-2.06.94zm10 10l.94 2.06.94-2.06 2.06-.94-2.06-.94-.94-2.06-.94 2.06-2.06.94z\"/><path d=\"M17.41 7.96l-1.37-1.37c-.4-.4-.92-.59-1.43-.59-.52 0-1.04.2-1.43.59L10.3 9.45l-7.72 7.72c-.78.78-.78 2.05 0 2.83L4 21.41c.39.39.9.59 1.41.59.51 0 1.02-.2 1.41-.59l7.78-7.78 2.81-2.81c.8-.78.8-2.07 0-2.86zM5.41 20L4 18.59l7.72-7.72 1.47 1.35L5.41 20z\"/>\n",
              "  </svg>\n",
              "      </button>\n",
              "      \n",
              "  <style>\n",
              "    .colab-df-container {\n",
              "      display:flex;\n",
              "      flex-wrap:wrap;\n",
              "      gap: 12px;\n",
              "    }\n",
              "\n",
              "    .colab-df-convert {\n",
              "      background-color: #E8F0FE;\n",
              "      border: none;\n",
              "      border-radius: 50%;\n",
              "      cursor: pointer;\n",
              "      display: none;\n",
              "      fill: #1967D2;\n",
              "      height: 32px;\n",
              "      padding: 0 0 0 0;\n",
              "      width: 32px;\n",
              "    }\n",
              "\n",
              "    .colab-df-convert:hover {\n",
              "      background-color: #E2EBFA;\n",
              "      box-shadow: 0px 1px 2px rgba(60, 64, 67, 0.3), 0px 1px 3px 1px rgba(60, 64, 67, 0.15);\n",
              "      fill: #174EA6;\n",
              "    }\n",
              "\n",
              "    [theme=dark] .colab-df-convert {\n",
              "      background-color: #3B4455;\n",
              "      fill: #D2E3FC;\n",
              "    }\n",
              "\n",
              "    [theme=dark] .colab-df-convert:hover {\n",
              "      background-color: #434B5C;\n",
              "      box-shadow: 0px 1px 3px 1px rgba(0, 0, 0, 0.15);\n",
              "      filter: drop-shadow(0px 1px 2px rgba(0, 0, 0, 0.3));\n",
              "      fill: #FFFFFF;\n",
              "    }\n",
              "  </style>\n",
              "\n",
              "      <script>\n",
              "        const buttonEl =\n",
              "          document.querySelector('#df-2e92c11b-4960-41b6-b236-a92c90c3e267 button.colab-df-convert');\n",
              "        buttonEl.style.display =\n",
              "          google.colab.kernel.accessAllowed ? 'block' : 'none';\n",
              "\n",
              "        async function convertToInteractive(key) {\n",
              "          const element = document.querySelector('#df-2e92c11b-4960-41b6-b236-a92c90c3e267');\n",
              "          const dataTable =\n",
              "            await google.colab.kernel.invokeFunction('convertToInteractive',\n",
              "                                                     [key], {});\n",
              "          if (!dataTable) return;\n",
              "\n",
              "          const docLinkHtml = 'Like what you see? Visit the ' +\n",
              "            '<a target=\"_blank\" href=https://colab.research.google.com/notebooks/data_table.ipynb>data table notebook</a>'\n",
              "            + ' to learn more about interactive tables.';\n",
              "          element.innerHTML = '';\n",
              "          dataTable['output_type'] = 'display_data';\n",
              "          await google.colab.output.renderOutput(dataTable, element);\n",
              "          const docLink = document.createElement('div');\n",
              "          docLink.innerHTML = docLinkHtml;\n",
              "          element.appendChild(docLink);\n",
              "        }\n",
              "      </script>\n",
              "    </div>\n",
              "  </div>\n",
              "  "
            ]
          },
          "metadata": {},
          "execution_count": 77
        }
      ],
      "source": [
        "#KNN ALGORITHM\n",
        "df9"
      ]
    },
    {
      "cell_type": "code",
      "execution_count": 78,
      "id": "_WaumktvACwy",
      "metadata": {
        "id": "_WaumktvACwy"
      },
      "outputs": [],
      "source": [
        "#important features : input (estimatedsalary and Age)\n",
        "#select input and ouput\n",
        "x=df[[\"time_spend_company\",\"average_montly_hours\",\"number_project\"]]\n",
        "y=df[\"quit\"]"
      ]
    },
    {
      "cell_type": "code",
      "execution_count": 79,
      "id": "opGfKgzZBAqy",
      "metadata": {
        "id": "opGfKgzZBAqy"
      },
      "outputs": [],
      "source": [
        "# spliting the data of x and y using train_test_split\n",
        "from sklearn.model_selection import train_test_split\n",
        "x_train,x_test,y_train,y_test=train_test_split(x,y,test_size=0.3,random_state=1)\n"
      ]
    },
    {
      "cell_type": "code",
      "execution_count": 80,
      "id": "N8znT_nSBGFd",
      "metadata": {
        "id": "N8znT_nSBGFd"
      },
      "outputs": [],
      "source": [
        "#first apply standardscaler\n",
        "from sklearn.preprocessing import StandardScaler\n",
        "#create object for StandardScaler class\n",
        "ss=StandardScaler()\n",
        "x_train=ss.fit_transform(x_train)\n",
        "x_test=ss.transform(x_test)"
      ]
    },
    {
      "cell_type": "code",
      "execution_count": 81,
      "id": "xAzzk_cNBIt6",
      "metadata": {
        "id": "xAzzk_cNBIt6"
      },
      "outputs": [],
      "source": [
        "#give data to knn algorithm\n",
        "from sklearn.neighbors import KNeighborsClassifier\n",
        "#create object for KNeighboursClassifier class\n",
        "knc=KNeighborsClassifier(n_neighbors=7,metric=\"minkowski\",p=2)\n",
        "#p=2 means Euclidean distance means sqrt(x2-x1)*2+(y2-y1)*2\n",
        "#n_neighbors means k means select minimum point (always odd)\n",
        "#best value of k=5"
      ]
    },
    {
      "cell_type": "code",
      "execution_count": 82,
      "id": "iS0RHh7nBnyW",
      "metadata": {
        "colab": {
          "base_uri": "https://localhost:8080/"
        },
        "id": "iS0RHh7nBnyW",
        "outputId": "273edcb1-6c62-4284-aaed-8e6e1fe2f79e"
      },
      "outputs": [
        {
          "output_type": "stream",
          "name": "stdout",
          "text": [
            "              precision    recall  f1-score   support\n",
            "\n",
            "           0       0.93      0.92      0.92      2844\n",
            "           1       0.92      0.93      0.92      2844\n",
            "\n",
            "    accuracy                           0.92      5688\n",
            "   macro avg       0.92      0.92      0.92      5688\n",
            "weighted avg       0.92      0.92      0.92      5688\n",
            "\n",
            "[[2620  224]\n",
            " [ 205 2639]]\n"
          ]
        }
      ],
      "source": [
        "#call function \n",
        "knc=create_model(knc)\n",
        "#at n_neighbors=5 it shows 1=0.92 and 0=0.91\n",
        "#thats why we used at n_neighbors=7 it shows 1=0.93 and 0=0.90"
      ]
    },
    {
      "cell_type": "markdown",
      "source": [
        "# Final Conclusion"
      ],
      "metadata": {
        "id": "enyDZrLMrXLI"
      },
      "id": "enyDZrLMrXLI"
    },
    {
      "cell_type": "code",
      "execution_count": 83,
      "id": "XGpsHOPaB-h4",
      "metadata": {
        "id": "XGpsHOPaB-h4"
      },
      "outputs": [],
      "source": [
        "#so far best one decision tree enotropy with prunning max_depth recall 0=0.79 and 1=0.96"
      ]
    }
  ],
  "metadata": {
    "colab": {
      "provenance": [],
      "collapsed_sections": []
    },
    "kernelspec": {
      "display_name": "Python 3 (ipykernel)",
      "language": "python",
      "name": "python3"
    },
    "language_info": {
      "codemirror_mode": {
        "name": "ipython",
        "version": 3
      },
      "file_extension": ".py",
      "mimetype": "text/x-python",
      "name": "python",
      "nbconvert_exporter": "python",
      "pygments_lexer": "ipython3",
      "version": "3.9.12"
    }
  },
  "nbformat": 4,
  "nbformat_minor": 5
}